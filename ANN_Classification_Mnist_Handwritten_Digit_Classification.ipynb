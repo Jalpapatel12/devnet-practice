{
  "nbformat": 4,
  "nbformat_minor": 0,
  "metadata": {
    "colab": {
      "provenance": [],
      "include_colab_link": true
    },
    "kernelspec": {
      "name": "python3",
      "display_name": "Python 3"
    },
    "language_info": {
      "name": "python"
    }
  },
  "cells": [
    {
      "cell_type": "markdown",
      "metadata": {
        "id": "view-in-github",
        "colab_type": "text"
      },
      "source": [
        "<a href=\"https://colab.research.google.com/github/Jalpapatel12/devnet-practice/blob/master/ANN_Classification_Mnist_Handwritten_Digit_Classification.ipynb\" target=\"_parent\"><img src=\"https://colab.research.google.com/assets/colab-badge.svg\" alt=\"Open In Colab\"/></a>"
      ]
    },
    {
      "cell_type": "code",
      "execution_count": null,
      "metadata": {
        "id": "eA9BUlhd-aWd"
      },
      "outputs": [],
      "source": [
        "import pandas as pd\n",
        "import numpy as np\n",
        "import matplotlib.pyplot as plt\n",
        "from tensorflow.keras.datasets.mnist import load_data"
      ]
    },
    {
      "cell_type": "code",
      "source": [
        "(train_data, train_labels), (test_data, test_labels) = load_data()"
      ],
      "metadata": {
        "colab": {
          "base_uri": "https://localhost:8080/"
        },
        "id": "bgLJSzLU-tHK",
        "outputId": "89a47854-038d-4b79-b4fe-54b57bbf843e"
      },
      "execution_count": null,
      "outputs": [
        {
          "output_type": "stream",
          "name": "stdout",
          "text": [
            "Downloading data from https://storage.googleapis.com/tensorflow/tf-keras-datasets/mnist.npz\n",
            "11490434/11490434 [==============================] - 0s 0us/step\n"
          ]
        }
      ]
    },
    {
      "cell_type": "code",
      "source": [
        "# Num of Images = 60000\n",
        "# image shape = (28 x 28)\n",
        "train_data.shape"
      ],
      "metadata": {
        "colab": {
          "base_uri": "https://localhost:8080/"
        },
        "id": "mlkumGag_DDl",
        "outputId": "c38e26ff-02b8-414d-bc27-e35a91feab79"
      },
      "execution_count": null,
      "outputs": [
        {
          "output_type": "execute_result",
          "data": {
            "text/plain": [
              "(60000, 28, 28)"
            ]
          },
          "metadata": {},
          "execution_count": 4
        }
      ]
    },
    {
      "cell_type": "code",
      "source": [
        "test_data.shape"
      ],
      "metadata": {
        "colab": {
          "base_uri": "https://localhost:8080/"
        },
        "id": "iVm7badiAZyN",
        "outputId": "d67818ad-0c43-40e8-d47b-8876d355fe49"
      },
      "execution_count": null,
      "outputs": [
        {
          "output_type": "execute_result",
          "data": {
            "text/plain": [
              "(10000, 28, 28)"
            ]
          },
          "metadata": {},
          "execution_count": 5
        }
      ]
    },
    {
      "cell_type": "code",
      "source": [
        "train_labels[0:20]"
      ],
      "metadata": {
        "colab": {
          "base_uri": "https://localhost:8080/"
        },
        "id": "_6ekHhPdAm93",
        "outputId": "6bec60a9-d4b7-49a4-9e92-2e165da21b82"
      },
      "execution_count": null,
      "outputs": [
        {
          "output_type": "execute_result",
          "data": {
            "text/plain": [
              "array([5, 0, 4, 1, 9, 2, 1, 3, 1, 4, 3, 5, 3, 6, 1, 7, 2, 8, 6, 9],\n",
              "      dtype=uint8)"
            ]
          },
          "metadata": {},
          "execution_count": 7
        }
      ]
    },
    {
      "cell_type": "code",
      "source": [
        "# Image as an array of pixels with shape = 28x28\n",
        "# Each pixel will range 0-255\n",
        "train_data[0]"
      ],
      "metadata": {
        "colab": {
          "base_uri": "https://localhost:8080/"
        },
        "id": "oxIqlKrzArUL",
        "outputId": "e4c31ee1-1f36-4e90-8eec-b7cb6a5b87cf"
      },
      "execution_count": null,
      "outputs": [
        {
          "output_type": "execute_result",
          "data": {
            "text/plain": [
              "array([[  0,   0,   0,   0,   0,   0,   0,   0,   0,   0,   0,   0,   0,\n",
              "          0,   0,   0,   0,   0,   0,   0,   0,   0,   0,   0,   0,   0,\n",
              "          0,   0],\n",
              "       [  0,   0,   0,   0,   0,   0,   0,   0,   0,   0,   0,   0,   0,\n",
              "          0,   0,   0,   0,   0,   0,   0,   0,   0,   0,   0,   0,   0,\n",
              "          0,   0],\n",
              "       [  0,   0,   0,   0,   0,   0,   0,   0,   0,   0,   0,   0,   0,\n",
              "          0,   0,   0,   0,   0,   0,   0,   0,   0,   0,   0,   0,   0,\n",
              "          0,   0],\n",
              "       [  0,   0,   0,   0,   0,   0,   0,   0,   0,   0,   0,   0,   0,\n",
              "          0,   0,   0,   0,   0,   0,   0,   0,   0,   0,   0,   0,   0,\n",
              "          0,   0],\n",
              "       [  0,   0,   0,   0,   0,   0,   0,   0,   0,   0,   0,   0,   0,\n",
              "          0,   0,   0,   0,   0,   0,   0,   0,   0,   0,   0,   0,   0,\n",
              "          0,   0],\n",
              "       [  0,   0,   0,   0,   0,   0,   0,   0,   0,   0,   0,   0,   3,\n",
              "         18,  18,  18, 126, 136, 175,  26, 166, 255, 247, 127,   0,   0,\n",
              "          0,   0],\n",
              "       [  0,   0,   0,   0,   0,   0,   0,   0,  30,  36,  94, 154, 170,\n",
              "        253, 253, 253, 253, 253, 225, 172, 253, 242, 195,  64,   0,   0,\n",
              "          0,   0],\n",
              "       [  0,   0,   0,   0,   0,   0,   0,  49, 238, 253, 253, 253, 253,\n",
              "        253, 253, 253, 253, 251,  93,  82,  82,  56,  39,   0,   0,   0,\n",
              "          0,   0],\n",
              "       [  0,   0,   0,   0,   0,   0,   0,  18, 219, 253, 253, 253, 253,\n",
              "        253, 198, 182, 247, 241,   0,   0,   0,   0,   0,   0,   0,   0,\n",
              "          0,   0],\n",
              "       [  0,   0,   0,   0,   0,   0,   0,   0,  80, 156, 107, 253, 253,\n",
              "        205,  11,   0,  43, 154,   0,   0,   0,   0,   0,   0,   0,   0,\n",
              "          0,   0],\n",
              "       [  0,   0,   0,   0,   0,   0,   0,   0,   0,  14,   1, 154, 253,\n",
              "         90,   0,   0,   0,   0,   0,   0,   0,   0,   0,   0,   0,   0,\n",
              "          0,   0],\n",
              "       [  0,   0,   0,   0,   0,   0,   0,   0,   0,   0,   0, 139, 253,\n",
              "        190,   2,   0,   0,   0,   0,   0,   0,   0,   0,   0,   0,   0,\n",
              "          0,   0],\n",
              "       [  0,   0,   0,   0,   0,   0,   0,   0,   0,   0,   0,  11, 190,\n",
              "        253,  70,   0,   0,   0,   0,   0,   0,   0,   0,   0,   0,   0,\n",
              "          0,   0],\n",
              "       [  0,   0,   0,   0,   0,   0,   0,   0,   0,   0,   0,   0,  35,\n",
              "        241, 225, 160, 108,   1,   0,   0,   0,   0,   0,   0,   0,   0,\n",
              "          0,   0],\n",
              "       [  0,   0,   0,   0,   0,   0,   0,   0,   0,   0,   0,   0,   0,\n",
              "         81, 240, 253, 253, 119,  25,   0,   0,   0,   0,   0,   0,   0,\n",
              "          0,   0],\n",
              "       [  0,   0,   0,   0,   0,   0,   0,   0,   0,   0,   0,   0,   0,\n",
              "          0,  45, 186, 253, 253, 150,  27,   0,   0,   0,   0,   0,   0,\n",
              "          0,   0],\n",
              "       [  0,   0,   0,   0,   0,   0,   0,   0,   0,   0,   0,   0,   0,\n",
              "          0,   0,  16,  93, 252, 253, 187,   0,   0,   0,   0,   0,   0,\n",
              "          0,   0],\n",
              "       [  0,   0,   0,   0,   0,   0,   0,   0,   0,   0,   0,   0,   0,\n",
              "          0,   0,   0,   0, 249, 253, 249,  64,   0,   0,   0,   0,   0,\n",
              "          0,   0],\n",
              "       [  0,   0,   0,   0,   0,   0,   0,   0,   0,   0,   0,   0,   0,\n",
              "          0,  46, 130, 183, 253, 253, 207,   2,   0,   0,   0,   0,   0,\n",
              "          0,   0],\n",
              "       [  0,   0,   0,   0,   0,   0,   0,   0,   0,   0,   0,   0,  39,\n",
              "        148, 229, 253, 253, 253, 250, 182,   0,   0,   0,   0,   0,   0,\n",
              "          0,   0],\n",
              "       [  0,   0,   0,   0,   0,   0,   0,   0,   0,   0,  24, 114, 221,\n",
              "        253, 253, 253, 253, 201,  78,   0,   0,   0,   0,   0,   0,   0,\n",
              "          0,   0],\n",
              "       [  0,   0,   0,   0,   0,   0,   0,   0,  23,  66, 213, 253, 253,\n",
              "        253, 253, 198,  81,   2,   0,   0,   0,   0,   0,   0,   0,   0,\n",
              "          0,   0],\n",
              "       [  0,   0,   0,   0,   0,   0,  18, 171, 219, 253, 253, 253, 253,\n",
              "        195,  80,   9,   0,   0,   0,   0,   0,   0,   0,   0,   0,   0,\n",
              "          0,   0],\n",
              "       [  0,   0,   0,   0,  55, 172, 226, 253, 253, 253, 253, 244, 133,\n",
              "         11,   0,   0,   0,   0,   0,   0,   0,   0,   0,   0,   0,   0,\n",
              "          0,   0],\n",
              "       [  0,   0,   0,   0, 136, 253, 253, 253, 212, 135, 132,  16,   0,\n",
              "          0,   0,   0,   0,   0,   0,   0,   0,   0,   0,   0,   0,   0,\n",
              "          0,   0],\n",
              "       [  0,   0,   0,   0,   0,   0,   0,   0,   0,   0,   0,   0,   0,\n",
              "          0,   0,   0,   0,   0,   0,   0,   0,   0,   0,   0,   0,   0,\n",
              "          0,   0],\n",
              "       [  0,   0,   0,   0,   0,   0,   0,   0,   0,   0,   0,   0,   0,\n",
              "          0,   0,   0,   0,   0,   0,   0,   0,   0,   0,   0,   0,   0,\n",
              "          0,   0],\n",
              "       [  0,   0,   0,   0,   0,   0,   0,   0,   0,   0,   0,   0,   0,\n",
              "          0,   0,   0,   0,   0,   0,   0,   0,   0,   0,   0,   0,   0,\n",
              "          0,   0]], dtype=uint8)"
            ]
          },
          "metadata": {},
          "execution_count": 8
        }
      ]
    },
    {
      "cell_type": "code",
      "source": [
        "img = train_data[0]\n",
        "# display image\n",
        "plt.imshow(img, cmap = 'gray')\n",
        "plt.title('Label %i' %train_labels[0])\n",
        "plt.show()"
      ],
      "metadata": {
        "colab": {
          "base_uri": "https://localhost:8080/",
          "height": 281
        },
        "id": "F_PF1Ze9A7MI",
        "outputId": "024cf082-3b42-4491-9a59-6d4795aae5e2"
      },
      "execution_count": null,
      "outputs": [
        {
          "output_type": "display_data",
          "data": {
            "text/plain": [
              "<Figure size 432x288 with 1 Axes>"
            ],
            "image/png": "[encoded data removed]"
          },
          "metadata": {
            "needs_background": "light"
          }
        }
      ]
    },
    {
      "cell_type": "code",
      "source": [
        "# GrayScale Image Shape = 28x28\n",
        "image_height = 28\n",
        "image_width = 28"
      ],
      "metadata": {
        "id": "FXwaIC-dBUNq"
      },
      "execution_count": null,
      "outputs": []
    },
    {
      "cell_type": "markdown",
      "source": [
        "##### Reshaping of Target into One-Hot Encoding"
      ],
      "metadata": {
        "id": "MQrjATqOC_Lg"
      }
    },
    {
      "cell_type": "code",
      "source": [
        "# For multiclass use one-hot encoding\n",
        "from tensorflow.keras.utils import to_categorical\n",
        "num_classes = 10\n",
        "train_labels_cat = to_categorical(train_labels, num_classes)\n",
        "test_labels_cat = to_categorical(test_labels, num_classes)"
      ],
      "metadata": {
        "id": "uBX_s0tsC9wl"
      },
      "execution_count": null,
      "outputs": []
    },
    {
      "cell_type": "code",
      "source": [
        "train_labels_cat[2]"
      ],
      "metadata": {
        "colab": {
          "base_uri": "https://localhost:8080/"
        },
        "id": "Z6k4T3VvEHAC",
        "outputId": "b0887b78-62f0-4bec-ed49-cdea0172dc59"
      },
      "execution_count": null,
      "outputs": [
        {
          "output_type": "execute_result",
          "data": {
            "text/plain": [
              "array([0., 0., 0., 0., 1., 0., 0., 0., 0., 0.], dtype=float32)"
            ]
          },
          "metadata": {},
          "execution_count": 15
        }
      ]
    },
    {
      "cell_type": "code",
      "source": [
        "# 784 = 28 x 28\n",
        "train_digits = train_data.reshape(60000, 784)\n",
        "test_digits = test_data.reshape(10000, 784)"
      ],
      "metadata": {
        "id": "jsQb4qM4EJmF"
      },
      "execution_count": null,
      "outputs": []
    },
    {
      "cell_type": "code",
      "source": [
        "train_digits[0]"
      ],
      "metadata": {
        "colab": {
          "base_uri": "https://localhost:8080/"
        },
        "id": "boFptJoHFn6X",
        "outputId": "b10c1372-043e-4352-e629-9e752b0389a3"
      },
      "execution_count": null,
      "outputs": [
        {
          "output_type": "execute_result",
          "data": {
            "text/plain": [
              "array([  0,   0,   0,   0,   0,   0,   0,   0,   0,   0,   0,   0,   0,\n",
              "         0,   0,   0,   0,   0,   0,   0,   0,   0,   0,   0,   0,   0,\n",
              "         0,   0,   0,   0,   0,   0,   0,   0,   0,   0,   0,   0,   0,\n",
              "         0,   0,   0,   0,   0,   0,   0,   0,   0,   0,   0,   0,   0,\n",
              "         0,   0,   0,   0,   0,   0,   0,   0,   0,   0,   0,   0,   0,\n",
              "         0,   0,   0,   0,   0,   0,   0,   0,   0,   0,   0,   0,   0,\n",
              "         0,   0,   0,   0,   0,   0,   0,   0,   0,   0,   0,   0,   0,\n",
              "         0,   0,   0,   0,   0,   0,   0,   0,   0,   0,   0,   0,   0,\n",
              "         0,   0,   0,   0,   0,   0,   0,   0,   0,   0,   0,   0,   0,\n",
              "         0,   0,   0,   0,   0,   0,   0,   0,   0,   0,   0,   0,   0,\n",
              "         0,   0,   0,   0,   0,   0,   0,   0,   0,   0,   0,   0,   0,\n",
              "         0,   0,   0,   0,   0,   0,   0,   0,   0,   3,  18,  18,  18,\n",
              "       126, 136, 175,  26, 166, 255, 247, 127,   0,   0,   0,   0,   0,\n",
              "         0,   0,   0,   0,   0,   0,   0,  30,  36,  94, 154, 170, 253,\n",
              "       253, 253, 253, 253, 225, 172, 253, 242, 195,  64,   0,   0,   0,\n",
              "         0,   0,   0,   0,   0,   0,   0,   0,  49, 238, 253, 253, 253,\n",
              "       253, 253, 253, 253, 253, 251,  93,  82,  82,  56,  39,   0,   0,\n",
              "         0,   0,   0,   0,   0,   0,   0,   0,   0,   0,  18, 219, 253,\n",
              "       253, 253, 253, 253, 198, 182, 247, 241,   0,   0,   0,   0,   0,\n",
              "         0,   0,   0,   0,   0,   0,   0,   0,   0,   0,   0,   0,   0,\n",
              "        80, 156, 107, 253, 253, 205,  11,   0,  43, 154,   0,   0,   0,\n",
              "         0,   0,   0,   0,   0,   0,   0,   0,   0,   0,   0,   0,   0,\n",
              "         0,   0,   0,  14,   1, 154, 253,  90,   0,   0,   0,   0,   0,\n",
              "         0,   0,   0,   0,   0,   0,   0,   0,   0,   0,   0,   0,   0,\n",
              "         0,   0,   0,   0,   0,   0,   0, 139, 253, 190,   2,   0,   0,\n",
              "         0,   0,   0,   0,   0,   0,   0,   0,   0,   0,   0,   0,   0,\n",
              "         0,   0,   0,   0,   0,   0,   0,   0,   0,  11, 190, 253,  70,\n",
              "         0,   0,   0,   0,   0,   0,   0,   0,   0,   0,   0,   0,   0,\n",
              "         0,   0,   0,   0,   0,   0,   0,   0,   0,   0,   0,   0,  35,\n",
              "       241, 225, 160, 108,   1,   0,   0,   0,   0,   0,   0,   0,   0,\n",
              "         0,   0,   0,   0,   0,   0,   0,   0,   0,   0,   0,   0,   0,\n",
              "         0,   0,  81, 240, 253, 253, 119,  25,   0,   0,   0,   0,   0,\n",
              "         0,   0,   0,   0,   0,   0,   0,   0,   0,   0,   0,   0,   0,\n",
              "         0,   0,   0,   0,   0,  45, 186, 253, 253, 150,  27,   0,   0,\n",
              "         0,   0,   0,   0,   0,   0,   0,   0,   0,   0,   0,   0,   0,\n",
              "         0,   0,   0,   0,   0,   0,   0,   0,  16,  93, 252, 253, 187,\n",
              "         0,   0,   0,   0,   0,   0,   0,   0,   0,   0,   0,   0,   0,\n",
              "         0,   0,   0,   0,   0,   0,   0,   0,   0,   0,   0,   0, 249,\n",
              "       253, 249,  64,   0,   0,   0,   0,   0,   0,   0,   0,   0,   0,\n",
              "         0,   0,   0,   0,   0,   0,   0,   0,   0,   0,   0,  46, 130,\n",
              "       183, 253, 253, 207,   2,   0,   0,   0,   0,   0,   0,   0,   0,\n",
              "         0,   0,   0,   0,   0,   0,   0,   0,   0,   0,   0,  39, 148,\n",
              "       229, 253, 253, 253, 250, 182,   0,   0,   0,   0,   0,   0,   0,\n",
              "         0,   0,   0,   0,   0,   0,   0,   0,   0,   0,   0,  24, 114,\n",
              "       221, 253, 253, 253, 253, 201,  78,   0,   0,   0,   0,   0,   0,\n",
              "         0,   0,   0,   0,   0,   0,   0,   0,   0,   0,   0,  23,  66,\n",
              "       213, 253, 253, 253, 253, 198,  81,   2,   0,   0,   0,   0,   0,\n",
              "         0,   0,   0,   0,   0,   0,   0,   0,   0,   0,   0,  18, 171,\n",
              "       219, 253, 253, 253, 253, 195,  80,   9,   0,   0,   0,   0,   0,\n",
              "         0,   0,   0,   0,   0,   0,   0,   0,   0,   0,   0,  55, 172,\n",
              "       226, 253, 253, 253, 253, 244, 133,  11,   0,   0,   0,   0,   0,\n",
              "         0,   0,   0,   0,   0,   0,   0,   0,   0,   0,   0,   0,   0,\n",
              "       136, 253, 253, 253, 212, 135, 132,  16,   0,   0,   0,   0,   0,\n",
              "         0,   0,   0,   0,   0,   0,   0,   0,   0,   0,   0,   0,   0,\n",
              "         0,   0,   0,   0,   0,   0,   0,   0,   0,   0,   0,   0,   0,\n",
              "         0,   0,   0,   0,   0,   0,   0,   0,   0,   0,   0,   0,   0,\n",
              "         0,   0,   0,   0,   0,   0,   0,   0,   0,   0,   0,   0,   0,\n",
              "         0,   0,   0,   0,   0,   0,   0,   0,   0,   0,   0,   0,   0,\n",
              "         0,   0,   0,   0,   0,   0,   0,   0,   0,   0,   0,   0,   0,\n",
              "         0,   0,   0,   0,   0,   0,   0,   0,   0,   0,   0,   0,   0,\n",
              "         0,   0,   0,   0], dtype=uint8)"
            ]
          },
          "metadata": {},
          "execution_count": 20
        }
      ]
    },
    {
      "cell_type": "markdown",
      "source": [
        "##### Image Normalization"
      ],
      "metadata": {
        "id": "mlr9sCplE-G8"
      }
    },
    {
      "cell_type": "code",
      "source": [
        "# image pixel (0-255) is scaled now b/w (0-1)\n",
        "train_digits1 = train_digits.astype('float32') / 255\n",
        "test_digits2 = test_digits.astype('float32') / 255"
      ],
      "metadata": {
        "id": "-qB2cJvNE9SE"
      },
      "execution_count": null,
      "outputs": []
    },
    {
      "cell_type": "markdown",
      "source": [
        "##### Split Data into Train & Validation"
      ],
      "metadata": {
        "id": "f_sQ6kXXFO7-"
      }
    },
    {
      "cell_type": "code",
      "source": [
        "from sklearn.model_selection import train_test_split\n",
        "# Split data into train & test (80%-20%)\n",
        "train_data, val_data, train_label, val_label = train_test_split(train_digits1, train_labels_cat, test_size = 0.1, random_state=2)"
      ],
      "metadata": {
        "id": "OrdmzlM6E4ag"
      },
      "execution_count": null,
      "outputs": []
    },
    {
      "cell_type": "code",
      "source": [
        "train_data.shape"
      ],
      "metadata": {
        "colab": {
          "base_uri": "https://localhost:8080/"
        },
        "id": "xpwI-Hg2GaT7",
        "outputId": "22b97b05-8826-4064-ef90-6cfd5f8c0cc6"
      },
      "execution_count": null,
      "outputs": [
        {
          "output_type": "execute_result",
          "data": {
            "text/plain": [
              "(54000, 784)"
            ]
          },
          "metadata": {},
          "execution_count": 22
        }
      ]
    },
    {
      "cell_type": "code",
      "source": [
        "train_label.shape"
      ],
      "metadata": {
        "colab": {
          "base_uri": "https://localhost:8080/"
        },
        "id": "z_fUj54BHIUs",
        "outputId": "65aced27-5686-4093-aafe-c295168cbb2a"
      },
      "execution_count": null,
      "outputs": [
        {
          "output_type": "execute_result",
          "data": {
            "text/plain": [
              "(54000, 10)"
            ]
          },
          "metadata": {},
          "execution_count": 23
        }
      ]
    },
    {
      "cell_type": "code",
      "source": [
        "val_data.shape"
      ],
      "metadata": {
        "colab": {
          "base_uri": "https://localhost:8080/"
        },
        "id": "xXA6uo-JI4Qa",
        "outputId": "a7a20ecc-d10d-4718-e07a-1ee727876ca2"
      },
      "execution_count": null,
      "outputs": [
        {
          "output_type": "execute_result",
          "data": {
            "text/plain": [
              "(6000, 784)"
            ]
          },
          "metadata": {},
          "execution_count": 31
        }
      ]
    },
    {
      "cell_type": "markdown",
      "source": [
        "##### ANN Classification"
      ],
      "metadata": {
        "id": "4ZXb_5NUHOBc"
      }
    },
    {
      "cell_type": "code",
      "source": [
        "# Dense Neural Network\n",
        "from tensorflow.keras.layers import Dense, Dropout\n",
        "# Sequential Connection with Neural Network\n",
        "from tensorflow.keras.models import Sequential\n",
        "# Optimizers for Regression Model\n",
        "from tensorflow.keras.optimizers import Adam"
      ],
      "metadata": {
        "id": "u6G8wdSaHK2c"
      },
      "execution_count": null,
      "outputs": []
    },
    {
      "cell_type": "code",
      "source": [
        "def build_model():\n",
        "    # Sequential Neural Network - Feedforward Neural Network\n",
        "    model = Sequential()\n",
        "    # Units = Num of Neurons (2*pow(n)), input shape = Num of Features\n",
        "    model.add(Dense(units = 64, activation = 'relu', input_shape = [train_data.shape[1]]))\n",
        "    model.add(Dropout(0.2))\n",
        "    # Hidden Layer - I\n",
        "    model.add(Dense(units = 128, activation = 'relu'))\n",
        "    model.add(Dropout(0.2))\n",
        "    # Hidden Layer - II\n",
        "    model.add(Dense(units = 256, activation = 'relu'))\n",
        "    model.add(Dropout(0.2))\n",
        "    # Output Layer - \n",
        "    model.add(Dense(units = 10, activation = 'softmax'))\n",
        "    # Optimizers\n",
        "    optimizers = Adam(learning_rate = 0.001)\n",
        "    # Model Compiler\n",
        "    model.compile(loss = 'categorical_crossentropy', optimizer = optimizers, metrics=['accuracy'])\n",
        "    \n",
        "    return model"
      ],
      "metadata": {
        "id": "qcxAWOe-HZnd"
      },
      "execution_count": null,
      "outputs": []
    },
    {
      "cell_type": "code",
      "source": [
        "model = build_model()"
      ],
      "metadata": {
        "id": "tyDai5W2H7zO"
      },
      "execution_count": null,
      "outputs": []
    },
    {
      "cell_type": "code",
      "source": [
        "model.summary()"
      ],
      "metadata": {
        "colab": {
          "base_uri": "https://localhost:8080/"
        },
        "id": "OwFCNogQIRIz",
        "outputId": "0ed4ef27-f37b-4cf0-f938-a10ca04d4563"
      },
      "execution_count": null,
      "outputs": [
        {
          "output_type": "stream",
          "name": "stdout",
          "text": [
            "Model: \"sequential_2\"\n",
            "_________________________________________________________________\n",
            " Layer (type)                Output Shape              Param #   \n",
            "=================================================================\n",
            " dense_8 (Dense)             (None, 64)                50240     \n",
            "                                                                 \n",
            " dropout (Dropout)           (None, 64)                0         \n",
            "                                                                 \n",
            " dense_9 (Dense)             (None, 128)               8320      \n",
            "                                                                 \n",
            " dropout_1 (Dropout)         (None, 128)               0         \n",
            "                                                                 \n",
            " dense_10 (Dense)            (None, 256)               33024     \n",
            "                                                                 \n",
            " dropout_2 (Dropout)         (None, 256)               0         \n",
            "                                                                 \n",
            " dense_11 (Dense)            (None, 10)                2570      \n",
            "                                                                 \n",
            "=================================================================\n",
            "Total params: 94,154\n",
            "Trainable params: 94,154\n",
            "Non-trainable params: 0\n",
            "_________________________________________________________________\n"
          ]
        }
      ]
    },
    {
      "cell_type": "code",
      "source": [
        "history = model.fit(train_data, train_label, epochs=50, batch_size=32, validation_data = (val_data,val_label))"
      ],
      "metadata": {
        "colab": {
          "base_uri": "https://localhost:8080/"
        },
        "id": "b_s1b0MWITNY",
        "outputId": "9e9dedd3-85dc-4aee-d6f7-06c6f1d18b32"
      },
      "execution_count": null,
      "outputs": [
        {
          "output_type": "stream",
          "name": "stdout",
          "text": [
            "Epoch 1/50\n",
            "1688/1688 [==============================] - 7s 4ms/step - loss: 0.3809 - accuracy: 0.8831 - val_loss: 0.1693 - val_accuracy: 0.9505\n",
            "Epoch 2/50\n",
            "1688/1688 [==============================] - 9s 5ms/step - loss: 0.2013 - accuracy: 0.9407 - val_loss: 0.1335 - val_accuracy: 0.9590\n",
            "Epoch 3/50\n",
            "1688/1688 [==============================] - 6s 4ms/step - loss: 0.1672 - accuracy: 0.9495 - val_loss: 0.1178 - val_accuracy: 0.9640\n",
            "Epoch 4/50\n",
            "1688/1688 [==============================] - 6s 4ms/step - loss: 0.1503 - accuracy: 0.9526 - val_loss: 0.1114 - val_accuracy: 0.9655\n",
            "Epoch 5/50\n",
            "1688/1688 [==============================] - 6s 4ms/step - loss: 0.1368 - accuracy: 0.9594 - val_loss: 0.1068 - val_accuracy: 0.9652\n",
            "Epoch 6/50\n",
            "1688/1688 [==============================] - 6s 4ms/step - loss: 0.1263 - accuracy: 0.9621 - val_loss: 0.0960 - val_accuracy: 0.9692\n",
            "Epoch 7/50\n",
            "1688/1688 [==============================] - 6s 4ms/step - loss: 0.1168 - accuracy: 0.9644 - val_loss: 0.0941 - val_accuracy: 0.9718\n",
            "Epoch 8/50\n",
            "1688/1688 [==============================] - 6s 4ms/step - loss: 0.1114 - accuracy: 0.9653 - val_loss: 0.0853 - val_accuracy: 0.9742\n",
            "Epoch 9/50\n",
            "1688/1688 [==============================] - 7s 4ms/step - loss: 0.1053 - accuracy: 0.9665 - val_loss: 0.0796 - val_accuracy: 0.9737\n",
            "Epoch 10/50\n",
            "1688/1688 [==============================] - 6s 4ms/step - loss: 0.1011 - accuracy: 0.9684 - val_loss: 0.0880 - val_accuracy: 0.9743\n",
            "Epoch 11/50\n",
            "1688/1688 [==============================] - 6s 4ms/step - loss: 0.0932 - accuracy: 0.9709 - val_loss: 0.0848 - val_accuracy: 0.9748\n",
            "Epoch 12/50\n",
            "1688/1688 [==============================] - 6s 4ms/step - loss: 0.0953 - accuracy: 0.9705 - val_loss: 0.0911 - val_accuracy: 0.9718\n",
            "Epoch 13/50\n",
            "1688/1688 [==============================] - 6s 4ms/step - loss: 0.0941 - accuracy: 0.9705 - val_loss: 0.0880 - val_accuracy: 0.9748\n",
            "Epoch 14/50\n",
            "1688/1688 [==============================] - 6s 3ms/step - loss: 0.0921 - accuracy: 0.9716 - val_loss: 0.0864 - val_accuracy: 0.9747\n",
            "Epoch 15/50\n",
            "1688/1688 [==============================] - 6s 3ms/step - loss: 0.0872 - accuracy: 0.9728 - val_loss: 0.0862 - val_accuracy: 0.9767\n",
            "Epoch 16/50\n",
            "1688/1688 [==============================] - 6s 3ms/step - loss: 0.0831 - accuracy: 0.9750 - val_loss: 0.0850 - val_accuracy: 0.9752\n",
            "Epoch 17/50\n",
            "1688/1688 [==============================] - 6s 3ms/step - loss: 0.0816 - accuracy: 0.9748 - val_loss: 0.0802 - val_accuracy: 0.9790\n",
            "Epoch 18/50\n",
            "1688/1688 [==============================] - 6s 3ms/step - loss: 0.0786 - accuracy: 0.9755 - val_loss: 0.0899 - val_accuracy: 0.9743\n",
            "Epoch 19/50\n",
            "1688/1688 [==============================] - 6s 3ms/step - loss: 0.0776 - accuracy: 0.9761 - val_loss: 0.0928 - val_accuracy: 0.9753\n",
            "Epoch 20/50\n",
            "1688/1688 [==============================] - 6s 3ms/step - loss: 0.0788 - accuracy: 0.9755 - val_loss: 0.0834 - val_accuracy: 0.9778\n",
            "Epoch 21/50\n",
            "1688/1688 [==============================] - 6s 3ms/step - loss: 0.0755 - accuracy: 0.9767 - val_loss: 0.0845 - val_accuracy: 0.9767\n",
            "Epoch 22/50\n",
            "1688/1688 [==============================] - 6s 3ms/step - loss: 0.0773 - accuracy: 0.9764 - val_loss: 0.0841 - val_accuracy: 0.9762\n",
            "Epoch 23/50\n",
            "1688/1688 [==============================] - 6s 3ms/step - loss: 0.0754 - accuracy: 0.9770 - val_loss: 0.0828 - val_accuracy: 0.9750\n",
            "Epoch 24/50\n",
            "1688/1688 [==============================] - 6s 3ms/step - loss: 0.0706 - accuracy: 0.9777 - val_loss: 0.0784 - val_accuracy: 0.9782\n",
            "Epoch 25/50\n",
            "1688/1688 [==============================] - 6s 3ms/step - loss: 0.0730 - accuracy: 0.9768 - val_loss: 0.0872 - val_accuracy: 0.9750\n",
            "Epoch 26/50\n",
            "1688/1688 [==============================] - 6s 3ms/step - loss: 0.0734 - accuracy: 0.9780 - val_loss: 0.0784 - val_accuracy: 0.9788\n",
            "Epoch 27/50\n",
            "1688/1688 [==============================] - 6s 3ms/step - loss: 0.0707 - accuracy: 0.9778 - val_loss: 0.0887 - val_accuracy: 0.9757\n",
            "Epoch 28/50\n",
            "1688/1688 [==============================] - 6s 3ms/step - loss: 0.0668 - accuracy: 0.9798 - val_loss: 0.0799 - val_accuracy: 0.9790\n",
            "Epoch 29/50\n",
            "1688/1688 [==============================] - 6s 3ms/step - loss: 0.0678 - accuracy: 0.9785 - val_loss: 0.0797 - val_accuracy: 0.9763\n",
            "Epoch 30/50\n",
            "1688/1688 [==============================] - 6s 3ms/step - loss: 0.0703 - accuracy: 0.9784 - val_loss: 0.0880 - val_accuracy: 0.9748\n",
            "Epoch 31/50\n",
            "1688/1688 [==============================] - 6s 3ms/step - loss: 0.0670 - accuracy: 0.9794 - val_loss: 0.0891 - val_accuracy: 0.9745\n",
            "Epoch 32/50\n",
            "1688/1688 [==============================] - 6s 4ms/step - loss: 0.0633 - accuracy: 0.9802 - val_loss: 0.0828 - val_accuracy: 0.9773\n",
            "Epoch 33/50\n",
            "1688/1688 [==============================] - 6s 3ms/step - loss: 0.0661 - accuracy: 0.9801 - val_loss: 0.0903 - val_accuracy: 0.9758\n",
            "Epoch 34/50\n",
            "1688/1688 [==============================] - 6s 3ms/step - loss: 0.0668 - accuracy: 0.9796 - val_loss: 0.0921 - val_accuracy: 0.9752\n",
            "Epoch 35/50\n",
            "1688/1688 [==============================] - 6s 3ms/step - loss: 0.0681 - accuracy: 0.9794 - val_loss: 0.1005 - val_accuracy: 0.9758\n",
            "Epoch 36/50\n",
            "1688/1688 [==============================] - 6s 4ms/step - loss: 0.0602 - accuracy: 0.9812 - val_loss: 0.0933 - val_accuracy: 0.9747\n",
            "Epoch 37/50\n",
            "1688/1688 [==============================] - 6s 4ms/step - loss: 0.0613 - accuracy: 0.9812 - val_loss: 0.0854 - val_accuracy: 0.9753\n",
            "Epoch 38/50\n",
            "1688/1688 [==============================] - 6s 4ms/step - loss: 0.0671 - accuracy: 0.9800 - val_loss: 0.0862 - val_accuracy: 0.9768\n",
            "Epoch 39/50\n",
            "1688/1688 [==============================] - 6s 4ms/step - loss: 0.0639 - accuracy: 0.9808 - val_loss: 0.0878 - val_accuracy: 0.9772\n",
            "Epoch 40/50\n",
            "1688/1688 [==============================] - 6s 4ms/step - loss: 0.0632 - accuracy: 0.9803 - val_loss: 0.0789 - val_accuracy: 0.9773\n",
            "Epoch 41/50\n",
            "1688/1688 [==============================] - 6s 3ms/step - loss: 0.0626 - accuracy: 0.9811 - val_loss: 0.0884 - val_accuracy: 0.9770\n",
            "Epoch 42/50\n",
            "1688/1688 [==============================] - 6s 3ms/step - loss: 0.0596 - accuracy: 0.9814 - val_loss: 0.0863 - val_accuracy: 0.9780\n",
            "Epoch 43/50\n",
            "1688/1688 [==============================] - 6s 3ms/step - loss: 0.0615 - accuracy: 0.9809 - val_loss: 0.0903 - val_accuracy: 0.9760\n",
            "Epoch 44/50\n",
            "1688/1688 [==============================] - 6s 3ms/step - loss: 0.0576 - accuracy: 0.9817 - val_loss: 0.0926 - val_accuracy: 0.9762\n",
            "Epoch 45/50\n",
            "1688/1688 [==============================] - 6s 3ms/step - loss: 0.0606 - accuracy: 0.9815 - val_loss: 0.0916 - val_accuracy: 0.9758\n",
            "Epoch 46/50\n",
            "1688/1688 [==============================] - 6s 3ms/step - loss: 0.0563 - accuracy: 0.9833 - val_loss: 0.0942 - val_accuracy: 0.9782\n",
            "Epoch 47/50\n",
            "1688/1688 [==============================] - 6s 3ms/step - loss: 0.0576 - accuracy: 0.9826 - val_loss: 0.1035 - val_accuracy: 0.9757\n",
            "Epoch 48/50\n",
            "1688/1688 [==============================] - 6s 3ms/step - loss: 0.0595 - accuracy: 0.9819 - val_loss: 0.0930 - val_accuracy: 0.9770\n",
            "Epoch 49/50\n",
            "1688/1688 [==============================] - 6s 3ms/step - loss: 0.0568 - accuracy: 0.9824 - val_loss: 0.0932 - val_accuracy: 0.9767\n",
            "Epoch 50/50\n",
            "1688/1688 [==============================] - 6s 3ms/step - loss: 0.0572 - accuracy: 0.9825 - val_loss: 0.1012 - val_accuracy: 0.9760\n"
          ]
        }
      ]
    },
    {
      "cell_type": "code",
      "source": [
        "pd.DataFrame(history.history)"
      ],
      "metadata": {
        "colab": {
          "base_uri": "https://localhost:8080/",
          "height": 1000
        },
        "id": "fTOXXPxvIuHt",
        "outputId": "3e839785-b94d-4cb0-e169-7e51fe5de597"
      },
      "execution_count": null,
      "outputs": [
        {
          "output_type": "execute_result",
          "data": {
            "text/plain": [
              "        loss  accuracy  val_loss  val_accuracy\n",
              "0   0.380947  0.883111  0.169286      0.950500\n",
              "1   0.201253  0.940722  0.133461      0.959000\n",
              "2   0.167166  0.949519  0.117823      0.964000\n",
              "3   0.150269  0.952611  0.111441      0.965500\n",
              "4   0.136789  0.959426  0.106812      0.965167\n",
              "5   0.126328  0.962130  0.096029      0.969167\n",
              "6   0.116827  0.964389  0.094054      0.971833\n",
              "7   0.111351  0.965259  0.085345      0.974167\n",
              "8   0.105322  0.966537  0.079570      0.973667\n",
              "9   0.101117  0.968389  0.088020      0.974333\n",
              "10  0.093222  0.970907  0.084784      0.974833\n",
              "11  0.095302  0.970537  0.091120      0.971833\n",
              "12  0.094079  0.970500  0.088031      0.974833\n",
              "13  0.092093  0.971648  0.086371      0.974667\n",
              "14  0.087162  0.972833  0.086167      0.976667\n",
              "15  0.083056  0.975000  0.084970      0.975167\n",
              "16  0.081617  0.974759  0.080204      0.979000\n",
              "17  0.078644  0.975482  0.089908      0.974333\n",
              "18  0.077552  0.976148  0.092770      0.975333\n",
              "19  0.078842  0.975500  0.083399      0.977833\n",
              "20  0.075548  0.976685  0.084451      0.976667\n",
              "21  0.077290  0.976426  0.084137      0.976167\n",
              "22  0.075440  0.977019  0.082810      0.975000\n",
              "23  0.070577  0.977741  0.078432      0.978167\n",
              "24  0.072973  0.976778  0.087193      0.975000\n",
              "25  0.073412  0.977982  0.078445      0.978833\n",
              "26  0.070668  0.977815  0.088686      0.975667\n",
              "27  0.066810  0.979796  0.079909      0.979000\n",
              "28  0.067767  0.978537  0.079701      0.976333\n",
              "29  0.070287  0.978352  0.087996      0.974833\n",
              "30  0.067020  0.979389  0.089102      0.974500\n",
              "31  0.063324  0.980185  0.082807      0.977333\n",
              "32  0.066089  0.980056  0.090289      0.975833\n",
              "33  0.066818  0.979574  0.092145      0.975167\n",
              "34  0.068111  0.979426  0.100454      0.975833\n",
              "35  0.060177  0.981222  0.093344      0.974667\n",
              "36  0.061306  0.981167  0.085356      0.975333\n",
              "37  0.067081  0.979981  0.086221      0.976833\n",
              "38  0.063897  0.980833  0.087825      0.977167\n",
              "39  0.063184  0.980259  0.078906      0.977333\n",
              "40  0.062641  0.981111  0.088410      0.977000\n",
              "41  0.059631  0.981426  0.086257      0.978000\n",
              "42  0.061457  0.980944  0.090286      0.976000\n",
              "43  0.057552  0.981722  0.092587      0.976167\n",
              "44  0.060638  0.981519  0.091624      0.975833\n",
              "45  0.056347  0.983333  0.094185      0.978167\n",
              "46  0.057648  0.982574  0.103521      0.975667\n",
              "47  0.059493  0.981889  0.093004      0.977000\n",
              "48  0.056767  0.982370  0.093235      0.976667\n",
              "49  0.057187  0.982537  0.101168      0.976000"
            ],
            "text/html": [
              "\n",
              "  <div id=\"df-801b8a43-bfe4-4962-a273-891594337a35\">\n",
              "    <div class=\"colab-df-container\">\n",
              "      <div>\n",
              "<style scoped>\n",
              "    .dataframe tbody tr th:only-of-type {\n",
              "        vertical-align: middle;\n",
              "    }\n",
              "\n",
              "    .dataframe tbody tr th {\n",
              "        vertical-align: top;\n",
              "    }\n",
              "\n",
              "    .dataframe thead th {\n",
              "        text-align: right;\n",
              "    }\n",
              "</style>\n",
              "<table border=\"1\" class=\"dataframe\">\n",
              "  <thead>\n",
              "    <tr style=\"text-align: right;\">\n",
              "      <th></th>\n",
              "      <th>loss</th>\n",
              "      <th>accuracy</th>\n",
              "      <th>val_loss</th>\n",
              "      <th>val_accuracy</th>\n",
              "    </tr>\n",
              "  </thead>\n",
              "  <tbody>\n",
              "    <tr>\n",
              "      <th>0</th>\n",
              "      <td>0.380947</td>\n",
              "      <td>0.883111</td>\n",
              "      <td>0.169286</td>\n",
              "      <td>0.950500</td>\n",
              "    </tr>\n",
              "    <tr>\n",
              "      <th>1</th>\n",
              "      <td>0.201253</td>\n",
              "      <td>0.940722</td>\n",
              "      <td>0.133461</td>\n",
              "      <td>0.959000</td>\n",
              "    </tr>\n",
              "    <tr>\n",
              "      <th>2</th>\n",
              "      <td>0.167166</td>\n",
              "      <td>0.949519</td>\n",
              "      <td>0.117823</td>\n",
              "      <td>0.964000</td>\n",
              "    </tr>\n",
              "    <tr>\n",
              "      <th>3</th>\n",
              "      <td>0.150269</td>\n",
              "      <td>0.952611</td>\n",
              "      <td>0.111441</td>\n",
              "      <td>0.965500</td>\n",
              "    </tr>\n",
              "    <tr>\n",
              "      <th>4</th>\n",
              "      <td>0.136789</td>\n",
              "      <td>0.959426</td>\n",
              "      <td>0.106812</td>\n",
              "      <td>0.965167</td>\n",
              "    </tr>\n",
              "    <tr>\n",
              "      <th>5</th>\n",
              "      <td>0.126328</td>\n",
              "      <td>0.962130</td>\n",
              "      <td>0.096029</td>\n",
              "      <td>0.969167</td>\n",
              "    </tr>\n",
              "    <tr>\n",
              "      <th>6</th>\n",
              "      <td>0.116827</td>\n",
              "      <td>0.964389</td>\n",
              "      <td>0.094054</td>\n",
              "      <td>0.971833</td>\n",
              "    </tr>\n",
              "    <tr>\n",
              "      <th>7</th>\n",
              "      <td>0.111351</td>\n",
              "      <td>0.965259</td>\n",
              "      <td>0.085345</td>\n",
              "      <td>0.974167</td>\n",
              "    </tr>\n",
              "    <tr>\n",
              "      <th>8</th>\n",
              "      <td>0.105322</td>\n",
              "      <td>0.966537</td>\n",
              "      <td>0.079570</td>\n",
              "      <td>0.973667</td>\n",
              "    </tr>\n",
              "    <tr>\n",
              "      <th>9</th>\n",
              "      <td>0.101117</td>\n",
              "      <td>0.968389</td>\n",
              "      <td>0.088020</td>\n",
              "      <td>0.974333</td>\n",
              "    </tr>\n",
              "    <tr>\n",
              "      <th>10</th>\n",
              "      <td>0.093222</td>\n",
              "      <td>0.970907</td>\n",
              "      <td>0.084784</td>\n",
              "      <td>0.974833</td>\n",
              "    </tr>\n",
              "    <tr>\n",
              "      <th>11</th>\n",
              "      <td>0.095302</td>\n",
              "      <td>0.970537</td>\n",
              "      <td>0.091120</td>\n",
              "      <td>0.971833</td>\n",
              "    </tr>\n",
              "    <tr>\n",
              "      <th>12</th>\n",
              "      <td>0.094079</td>\n",
              "      <td>0.970500</td>\n",
              "      <td>0.088031</td>\n",
              "      <td>0.974833</td>\n",
              "    </tr>\n",
              "    <tr>\n",
              "      <th>13</th>\n",
              "      <td>0.092093</td>\n",
              "      <td>0.971648</td>\n",
              "      <td>0.086371</td>\n",
              "      <td>0.974667</td>\n",
              "    </tr>\n",
              "    <tr>\n",
              "      <th>14</th>\n",
              "      <td>0.087162</td>\n",
              "      <td>0.972833</td>\n",
              "      <td>0.086167</td>\n",
              "      <td>0.976667</td>\n",
              "    </tr>\n",
              "    <tr>\n",
              "      <th>15</th>\n",
              "      <td>0.083056</td>\n",
              "      <td>0.975000</td>\n",
              "      <td>0.084970</td>\n",
              "      <td>0.975167</td>\n",
              "    </tr>\n",
              "    <tr>\n",
              "      <th>16</th>\n",
              "      <td>0.081617</td>\n",
              "      <td>0.974759</td>\n",
              "      <td>0.080204</td>\n",
              "      <td>0.979000</td>\n",
              "    </tr>\n",
              "    <tr>\n",
              "      <th>17</th>\n",
              "      <td>0.078644</td>\n",
              "      <td>0.975482</td>\n",
              "      <td>0.089908</td>\n",
              "      <td>0.974333</td>\n",
              "    </tr>\n",
              "    <tr>\n",
              "      <th>18</th>\n",
              "      <td>0.077552</td>\n",
              "      <td>0.976148</td>\n",
              "      <td>0.092770</td>\n",
              "      <td>0.975333</td>\n",
              "    </tr>\n",
              "    <tr>\n",
              "      <th>19</th>\n",
              "      <td>0.078842</td>\n",
              "      <td>0.975500</td>\n",
              "      <td>0.083399</td>\n",
              "      <td>0.977833</td>\n",
              "    </tr>\n",
              "    <tr>\n",
              "      <th>20</th>\n",
              "      <td>0.075548</td>\n",
              "      <td>0.976685</td>\n",
              "      <td>0.084451</td>\n",
              "      <td>0.976667</td>\n",
              "    </tr>\n",
              "    <tr>\n",
              "      <th>21</th>\n",
              "      <td>0.077290</td>\n",
              "      <td>0.976426</td>\n",
              "      <td>0.084137</td>\n",
              "      <td>0.976167</td>\n",
              "    </tr>\n",
              "    <tr>\n",
              "      <th>22</th>\n",
              "      <td>0.075440</td>\n",
              "      <td>0.977019</td>\n",
              "      <td>0.082810</td>\n",
              "      <td>0.975000</td>\n",
              "    </tr>\n",
              "    <tr>\n",
              "      <th>23</th>\n",
              "      <td>0.070577</td>\n",
              "      <td>0.977741</td>\n",
              "      <td>0.078432</td>\n",
              "      <td>0.978167</td>\n",
              "    </tr>\n",
              "    <tr>\n",
              "      <th>24</th>\n",
              "      <td>0.072973</td>\n",
              "      <td>0.976778</td>\n",
              "      <td>0.087193</td>\n",
              "      <td>0.975000</td>\n",
              "    </tr>\n",
              "    <tr>\n",
              "      <th>25</th>\n",
              "      <td>0.073412</td>\n",
              "      <td>0.977982</td>\n",
              "      <td>0.078445</td>\n",
              "      <td>0.978833</td>\n",
              "    </tr>\n",
              "    <tr>\n",
              "      <th>26</th>\n",
              "      <td>0.070668</td>\n",
              "      <td>0.977815</td>\n",
              "      <td>0.088686</td>\n",
              "      <td>0.975667</td>\n",
              "    </tr>\n",
              "    <tr>\n",
              "      <th>27</th>\n",
              "      <td>0.066810</td>\n",
              "      <td>0.979796</td>\n",
              "      <td>0.079909</td>\n",
              "      <td>0.979000</td>\n",
              "    </tr>\n",
              "    <tr>\n",
              "      <th>28</th>\n",
              "      <td>0.067767</td>\n",
              "      <td>0.978537</td>\n",
              "      <td>0.079701</td>\n",
              "      <td>0.976333</td>\n",
              "    </tr>\n",
              "    <tr>\n",
              "      <th>29</th>\n",
              "      <td>0.070287</td>\n",
              "      <td>0.978352</td>\n",
              "      <td>0.087996</td>\n",
              "      <td>0.974833</td>\n",
              "    </tr>\n",
              "    <tr>\n",
              "      <th>30</th>\n",
              "      <td>0.067020</td>\n",
              "      <td>0.979389</td>\n",
              "      <td>0.089102</td>\n",
              "      <td>0.974500</td>\n",
              "    </tr>\n",
              "    <tr>\n",
              "      <th>31</th>\n",
              "      <td>0.063324</td>\n",
              "      <td>0.980185</td>\n",
              "      <td>0.082807</td>\n",
              "      <td>0.977333</td>\n",
              "    </tr>\n",
              "    <tr>\n",
              "      <th>32</th>\n",
              "      <td>0.066089</td>\n",
              "      <td>0.980056</td>\n",
              "      <td>0.090289</td>\n",
              "      <td>0.975833</td>\n",
              "    </tr>\n",
              "    <tr>\n",
              "      <th>33</th>\n",
              "      <td>0.066818</td>\n",
              "      <td>0.979574</td>\n",
              "      <td>0.092145</td>\n",
              "      <td>0.975167</td>\n",
              "    </tr>\n",
              "    <tr>\n",
              "      <th>34</th>\n",
              "      <td>0.068111</td>\n",
              "      <td>0.979426</td>\n",
              "      <td>0.100454</td>\n",
              "      <td>0.975833</td>\n",
              "    </tr>\n",
              "    <tr>\n",
              "      <th>35</th>\n",
              "      <td>0.060177</td>\n",
              "      <td>0.981222</td>\n",
              "      <td>0.093344</td>\n",
              "      <td>0.974667</td>\n",
              "    </tr>\n",
              "    <tr>\n",
              "      <th>36</th>\n",
              "      <td>0.061306</td>\n",
              "      <td>0.981167</td>\n",
              "      <td>0.085356</td>\n",
              "      <td>0.975333</td>\n",
              "    </tr>\n",
              "    <tr>\n",
              "      <th>37</th>\n",
              "      <td>0.067081</td>\n",
              "      <td>0.979981</td>\n",
              "      <td>0.086221</td>\n",
              "      <td>0.976833</td>\n",
              "    </tr>\n",
              "    <tr>\n",
              "      <th>38</th>\n",
              "      <td>0.063897</td>\n",
              "      <td>0.980833</td>\n",
              "      <td>0.087825</td>\n",
              "      <td>0.977167</td>\n",
              "    </tr>\n",
              "    <tr>\n",
              "      <th>39</th>\n",
              "      <td>0.063184</td>\n",
              "      <td>0.980259</td>\n",
              "      <td>0.078906</td>\n",
              "      <td>0.977333</td>\n",
              "    </tr>\n",
              "    <tr>\n",
              "      <th>40</th>\n",
              "      <td>0.062641</td>\n",
              "      <td>0.981111</td>\n",
              "      <td>0.088410</td>\n",
              "      <td>0.977000</td>\n",
              "    </tr>\n",
              "    <tr>\n",
              "      <th>41</th>\n",
              "      <td>0.059631</td>\n",
              "      <td>0.981426</td>\n",
              "      <td>0.086257</td>\n",
              "      <td>0.978000</td>\n",
              "    </tr>\n",
              "    <tr>\n",
              "      <th>42</th>\n",
              "      <td>0.061457</td>\n",
              "      <td>0.980944</td>\n",
              "      <td>0.090286</td>\n",
              "      <td>0.976000</td>\n",
              "    </tr>\n",
              "    <tr>\n",
              "      <th>43</th>\n",
              "      <td>0.057552</td>\n",
              "      <td>0.981722</td>\n",
              "      <td>0.092587</td>\n",
              "      <td>0.976167</td>\n",
              "    </tr>\n",
              "    <tr>\n",
              "      <th>44</th>\n",
              "      <td>0.060638</td>\n",
              "      <td>0.981519</td>\n",
              "      <td>0.091624</td>\n",
              "      <td>0.975833</td>\n",
              "    </tr>\n",
              "    <tr>\n",
              "      <th>45</th>\n",
              "      <td>0.056347</td>\n",
              "      <td>0.983333</td>\n",
              "      <td>0.094185</td>\n",
              "      <td>0.978167</td>\n",
              "    </tr>\n",
              "    <tr>\n",
              "      <th>46</th>\n",
              "      <td>0.057648</td>\n",
              "      <td>0.982574</td>\n",
              "      <td>0.103521</td>\n",
              "      <td>0.975667</td>\n",
              "    </tr>\n",
              "    <tr>\n",
              "      <th>47</th>\n",
              "      <td>0.059493</td>\n",
              "      <td>0.981889</td>\n",
              "      <td>0.093004</td>\n",
              "      <td>0.977000</td>\n",
              "    </tr>\n",
              "    <tr>\n",
              "      <th>48</th>\n",
              "      <td>0.056767</td>\n",
              "      <td>0.982370</td>\n",
              "      <td>0.093235</td>\n",
              "      <td>0.976667</td>\n",
              "    </tr>\n",
              "    <tr>\n",
              "      <th>49</th>\n",
              "      <td>0.057187</td>\n",
              "      <td>0.982537</td>\n",
              "      <td>0.101168</td>\n",
              "      <td>0.976000</td>\n",
              "    </tr>\n",
              "  </tbody>\n",
              "</table>\n",
              "</div>\n",
              "      <button class=\"colab-df-convert\" onclick=\"convertToInteractive('df-801b8a43-bfe4-4962-a273-891594337a35')\"\n",
              "              title=\"Convert this dataframe to an interactive table.\"\n",
              "              style=\"display:none;\">\n",
              "        \n",
              "  <svg xmlns=\"http://www.w3.org/2000/svg\" height=\"24px\"viewBox=\"0 0 24 24\"\n",
              "       width=\"24px\">\n",
              "    <path d=\"M0 0h24v24H0V0z\" fill=\"none\"/>\n",
              "    <path d=\"M18.56 5.44l.94 2.06.94-2.06 2.06-.94-2.06-.94-.94-2.06-.94 2.06-2.06.94zm-11 1L8.5 8.5l.94-2.06 2.06-.94-2.06-.94L8.5 2.5l-.94 2.06-2.06.94zm10 10l.94 2.06.94-2.06 2.06-.94-2.06-.94-.94-2.06-.94 2.06-2.06.94z\"/><path d=\"M17.41 7.96l-1.37-1.37c-.4-.4-.92-.59-1.43-.59-.52 0-1.04.2-1.43.59L10.3 9.45l-7.72 7.72c-.78.78-.78 2.05 0 2.83L4 21.41c.39.39.9.59 1.41.59.51 0 1.02-.2 1.41-.59l7.78-7.78 2.81-2.81c.8-.78.8-2.07 0-2.86zM5.41 20L4 18.59l7.72-7.72 1.47 1.35L5.41 20z\"/>\n",
              "  </svg>\n",
              "      </button>\n",
              "      \n",
              "  <style>\n",
              "    .colab-df-container {\n",
              "      display:flex;\n",
              "      flex-wrap:wrap;\n",
              "      gap: 12px;\n",
              "    }\n",
              "\n",
              "    .colab-df-convert {\n",
              "      background-color: #E8F0FE;\n",
              "      border: none;\n",
              "      border-radius: 50%;\n",
              "      cursor: pointer;\n",
              "      display: none;\n",
              "      fill: #1967D2;\n",
              "      height: 32px;\n",
              "      padding: 0 0 0 0;\n",
              "      width: 32px;\n",
              "    }\n",
              "\n",
              "    .colab-df-convert:hover {\n",
              "      background-color: #E2EBFA;\n",
              "      box-shadow: 0px 1px 2px rgba(60, 64, 67, 0.3), 0px 1px 3px 1px rgba(60, 64, 67, 0.15);\n",
              "      fill: #174EA6;\n",
              "    }\n",
              "\n",
              "    [theme=dark] .colab-df-convert {\n",
              "      background-color: #3B4455;\n",
              "      fill: #D2E3FC;\n",
              "    }\n",
              "\n",
              "    [theme=dark] .colab-df-convert:hover {\n",
              "      background-color: #434B5C;\n",
              "      box-shadow: 0px 1px 3px 1px rgba(0, 0, 0, 0.15);\n",
              "      filter: drop-shadow(0px 1px 2px rgba(0, 0, 0, 0.3));\n",
              "      fill: #FFFFFF;\n",
              "    }\n",
              "  </style>\n",
              "\n",
              "      <script>\n",
              "        const buttonEl =\n",
              "          document.querySelector('#df-801b8a43-bfe4-4962-a273-891594337a35 button.colab-df-convert');\n",
              "        buttonEl.style.display =\n",
              "          google.colab.kernel.accessAllowed ? 'block' : 'none';\n",
              "\n",
              "        async function convertToInteractive(key) {\n",
              "          const element = document.querySelector('#df-801b8a43-bfe4-4962-a273-891594337a35');\n",
              "          const dataTable =\n",
              "            await google.colab.kernel.invokeFunction('convertToInteractive',\n",
              "                                                     [key], {});\n",
              "          if (!dataTable) return;\n",
              "\n",
              "          const docLinkHtml = 'Like what you see? Visit the ' +\n",
              "            '<a target=\"_blank\" href=https://colab.research.google.com/notebooks/data_table.ipynb>data table notebook</a>'\n",
              "            + ' to learn more about interactive tables.';\n",
              "          element.innerHTML = '';\n",
              "          dataTable['output_type'] = 'display_data';\n",
              "          await google.colab.output.renderOutput(dataTable, element);\n",
              "          const docLink = document.createElement('div');\n",
              "          docLink.innerHTML = docLinkHtml;\n",
              "          element.appendChild(docLink);\n",
              "        }\n",
              "      </script>\n",
              "    </div>\n",
              "  </div>\n",
              "  "
            ]
          },
          "metadata": {},
          "execution_count": 44
        }
      ]
    },
    {
      "cell_type": "code",
      "source": [
        "plt.style.use('ggplot')\n",
        "pd.DataFrame(history.history)[['accuracy','val_accuracy']].plot()"
      ],
      "metadata": {
        "colab": {
          "base_uri": "https://localhost:8080/",
          "height": 283
        },
        "id": "951J39VKLR44",
        "outputId": "d0869d88-4f9d-488d-fd53-6e5705217024"
      },
      "execution_count": null,
      "outputs": [
        {
          "output_type": "execute_result",
          "data": {
            "text/plain": [
              "<matplotlib.axes._subplots.AxesSubplot at 0x7f767dd32250>"
            ]
          },
          "metadata": {},
          "execution_count": 45
        },
        {
          "output_type": "display_data",
          "data": {
            "text/plain": [
              "<Figure size 432x288 with 1 Axes>"
            ],
            "image/png": "[encoded data removed]"
          },
          "metadata": {}
        }
      ]
    },
    {
      "cell_type": "code",
      "source": [
        "pd.DataFrame(history.history)[['loss','val_loss']].plot()"
      ],
      "metadata": {
        "colab": {
          "base_uri": "https://localhost:8080/",
          "height": 283
        },
        "id": "8lx2iFZXLmmy",
        "outputId": "7856ebcc-e65e-46e9-bc61-6435993c0552"
      },
      "execution_count": null,
      "outputs": [
        {
          "output_type": "execute_result",
          "data": {
            "text/plain": [
              "<matplotlib.axes._subplots.AxesSubplot at 0x7f76836a2cd0>"
            ]
          },
          "metadata": {},
          "execution_count": 46
        },
        {
          "output_type": "display_data",
          "data": {
            "text/plain": [
              "<Figure size 432x288 with 1 Axes>"
            ],
            "image/png": "[encoded data removed]"
          },
          "metadata": {}
        }
      ]
    },
    {
      "cell_type": "markdown",
      "source": [
        "##### Make New Predictions"
      ],
      "metadata": {
        "id": "z7sfmmsZOiRE"
      }
    },
    {
      "cell_type": "code",
      "source": [
        "import cv2"
      ],
      "metadata": {
        "id": "9ny2KoHKNmDB"
      },
      "execution_count": null,
      "outputs": []
    },
    {
      "cell_type": "code",
      "source": [
        "# 0 stands for reading image as grayscale\n",
        "img = cv2.imread('/content/2.png', 0)"
      ],
      "metadata": {
        "id": "vOtMhHrLOxyQ"
      },
      "execution_count": null,
      "outputs": []
    },
    {
      "cell_type": "code",
      "source": [
        "img.shape"
      ],
      "metadata": {
        "colab": {
          "base_uri": "https://localhost:8080/"
        },
        "id": "AU-sF_lyO5V4",
        "outputId": "75ac09b0-d0ae-4d83-9986-bd984283a761"
      },
      "execution_count": null,
      "outputs": [
        {
          "output_type": "execute_result",
          "data": {
            "text/plain": [
              "(541, 484)"
            ]
          },
          "metadata": {},
          "execution_count": 49
        }
      ]
    },
    {
      "cell_type": "code",
      "source": [
        "img = cv2.resize(img, (28,28))"
      ],
      "metadata": {
        "id": "UDppcKuqO6u1"
      },
      "execution_count": null,
      "outputs": []
    },
    {
      "cell_type": "code",
      "source": [
        "plt.imshow(img, cmap = 'gray')"
      ],
      "metadata": {
        "colab": {
          "base_uri": "https://localhost:8080/",
          "height": 283
        },
        "id": "c1D6uNFlO_B0",
        "outputId": "fc877a25-f56d-46b1-88b0-6204f408506e"
      },
      "execution_count": null,
      "outputs": [
        {
          "output_type": "execute_result",
          "data": {
            "text/plain": [
              "<matplotlib.image.AxesImage at 0x7f76f34144c0>"
            ]
          },
          "metadata": {},
          "execution_count": 51
        },
        {
          "output_type": "display_data",
          "data": {
            "text/plain": [
              "<Figure size 432x288 with 1 Axes>"
            ],
            "image/png": "[encoded data removed]"
          },
          "metadata": {}
        }
      ]
    },
    {
      "cell_type": "code",
      "source": [
        "img1 = cv2.bitwise_not(img)\n",
        "plt.imshow(img1, cmap = 'gray')"
      ],
      "metadata": {
        "colab": {
          "base_uri": "https://localhost:8080/",
          "height": 283
        },
        "id": "F2b5tOp_PI_J",
        "outputId": "73100387-f434-4f65-a309-eb2c1a5f03d0"
      },
      "execution_count": null,
      "outputs": [
        {
          "output_type": "execute_result",
          "data": {
            "text/plain": [
              "<matplotlib.image.AxesImage at 0x7f768aa570a0>"
            ]
          },
          "metadata": {},
          "execution_count": 52
        },
        {
          "output_type": "display_data",
          "data": {
            "text/plain": [
              "<Figure size 432x288 with 1 Axes>"
            ],
            "image/png": "[encoded data removed]"
          },
          "metadata": {}
        }
      ]
    },
    {
      "cell_type": "code",
      "source": [
        "img_new = img1.reshape(1, 784)"
      ],
      "metadata": {
        "id": "trJ3BspzPaN4"
      },
      "execution_count": null,
      "outputs": []
    },
    {
      "cell_type": "code",
      "source": [
        "model.predict(img_new)"
      ],
      "metadata": {
        "colab": {
          "base_uri": "https://localhost:8080/"
        },
        "id": "C9Rr2BWNPh3p",
        "outputId": "e5187af5-222b-4d9c-c580-6447489ad0e3"
      },
      "execution_count": null,
      "outputs": [
        {
          "output_type": "stream",
          "name": "stdout",
          "text": [
            "1/1 [==============================] - 0s 110ms/step\n"
          ]
        },
        {
          "output_type": "execute_result",
          "data": {
            "text/plain": [
              "array([[0., 0., 1., 0., 0., 0., 0., 0., 0., 0.]], dtype=float32)"
            ]
          },
          "metadata": {},
          "execution_count": 54
        }
      ]
    },
    {
      "cell_type": "code",
      "source": [
        "yhat = np.argmax(model.predict(img_new))\n",
        "print(yhat)"
      ],
      "metadata": {
        "colab": {
          "base_uri": "https://localhost:8080/"
        },
        "id": "Wl8CCFbjPkXM",
        "outputId": "fbdfb053-d715-4b51-8b0a-e1e62897b517"
      },
      "execution_count": null,
      "outputs": [
        {
          "output_type": "stream",
          "name": "stdout",
          "text": [
            "1/1 [==============================] - 0s 32ms/step\n",
            "2\n"
          ]
        }
      ]
    },
    {
      "cell_type": "code",
      "source": [
        "plt.imshow(img1, cmap = 'gray')\n",
        "plt.title('Label :%i' %yhat)\n",
        "plt.show()"
      ],
      "metadata": {
        "colab": {
          "base_uri": "https://localhost:8080/",
          "height": 282
        },
        "id": "cJ28P-ApPqiy",
        "outputId": "9e8b1bfe-ca6b-4f79-efb4-225752d94b5d"
      },
      "execution_count": null,
      "outputs": [
        {
          "output_type": "display_data",
          "data": {
            "text/plain": [
              "<Figure size 432x288 with 1 Axes>"
            ],
            "image/png": "[encoded data removed]"
          },
          "metadata": {}
        }
      ]
    },
    {
      "cell_type": "code",
      "source": [],
      "metadata": {
        "id": "Yt_wJ59AP6vu"
      },
      "execution_count": null,
      "outputs": []
    }
  ]
}