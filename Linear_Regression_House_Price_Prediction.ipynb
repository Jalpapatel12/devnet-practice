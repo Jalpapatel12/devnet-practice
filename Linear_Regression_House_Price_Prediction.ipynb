{
  "nbformat": 4,
  "nbformat_minor": 0,
  "metadata": {
    "colab": {
      "provenance": [],
      "include_colab_link": true
    },
    "kernelspec": {
      "name": "python3",
      "display_name": "Python 3"
    },
    "language_info": {
      "name": "python"
    }
  },
  "cells": [
    {
      "cell_type": "markdown",
      "metadata": {
        "id": "view-in-github",
        "colab_type": "text"
      },
      "source": [
        "<a href=\"https://colab.research.google.com/github/Jalpapatel12/devnet-practice/blob/master/Linear_Regression_House_Price_Prediction.ipynb\" target=\"_parent\"><img src=\"https://colab.research.google.com/assets/colab-badge.svg\" alt=\"Open In Colab\"/></a>"
      ]
    },
    {
      "cell_type": "code",
      "execution_count": null,
      "metadata": {
        "id": "1uljByETfacZ"
      },
      "outputs": [],
      "source": [
        "import numpy as np\n",
        "import pandas as pd\n",
        "import matplotlib.pyplot as plt\n",
        "import seaborn as sns"
      ]
    },
    {
      "cell_type": "code",
      "source": [
        "house_sales = pd.read_csv('https://raw.githubusercontent.com/ammishra08/MachineLearning/master/Datasets/house_sales_data.csv')"
      ],
      "metadata": {
        "id": "Pw0hT_HIf1BH"
      },
      "execution_count": null,
      "outputs": []
    },
    {
      "cell_type": "code",
      "source": [
        "house_sales.head()"
      ],
      "metadata": {
        "colab": {
          "base_uri": "https://localhost:8080/",
          "height": 299
        },
        "id": "VNKAGFlygO9M",
        "outputId": "e2fe73fb-2b53-4e92-aa31-753053879d51"
      },
      "execution_count": null,
      "outputs": [
        {
          "output_type": "execute_result",
          "data": {
            "text/plain": [
              "           id             date     price  bedrooms  bathrooms  sqft_living  \\\n",
              "0  7129300520  20141013T000000  221900.0         3       1.00         1180   \n",
              "1  6414100192  20141209T000000  538000.0         3       2.25         2570   \n",
              "2  5631500400  20150225T000000  180000.0         2       1.00          770   \n",
              "3  2487200875  20141209T000000  604000.0         4       3.00         1960   \n",
              "4  1954400510  20150218T000000  510000.0         3       2.00         1680   \n",
              "\n",
              "   sqft_lot  floors  waterfront  view  ...  grade  sqft_above  sqft_basement  \\\n",
              "0      5650     1.0           0     0  ...      7        1180              0   \n",
              "1      7242     2.0           0     0  ...      7        2170            400   \n",
              "2     10000     1.0           0     0  ...      6         770              0   \n",
              "3      5000     1.0           0     0  ...      7        1050            910   \n",
              "4      8080     1.0           0     0  ...      8        1680              0   \n",
              "\n",
              "   yr_built  yr_renovated  zipcode      lat     long  sqft_living15  \\\n",
              "0      1955             0    98178  47.5112 -122.257           1340   \n",
              "1      1951          1991    98125  47.7210 -122.319           1690   \n",
              "2      1933             0    98028  47.7379 -122.233           2720   \n",
              "3      1965             0    98136  47.5208 -122.393           1360   \n",
              "4      1987             0    98074  47.6168 -122.045           1800   \n",
              "\n",
              "   sqft_lot15  \n",
              "0        5650  \n",
              "1        7639  \n",
              "2        8062  \n",
              "3        5000  \n",
              "4        7503  \n",
              "\n",
              "[5 rows x 21 columns]"
            ],
            "text/html": [
              "\n",
              "  <div id=\"df-3766729b-f5e5-41f0-aca7-9606f5f3431c\">\n",
              "    <div class=\"colab-df-container\">\n",
              "      <div>\n",
              "<style scoped>\n",
              "    .dataframe tbody tr th:only-of-type {\n",
              "        vertical-align: middle;\n",
              "    }\n",
              "\n",
              "    .dataframe tbody tr th {\n",
              "        vertical-align: top;\n",
              "    }\n",
              "\n",
              "    .dataframe thead th {\n",
              "        text-align: right;\n",
              "    }\n",
              "</style>\n",
              "<table border=\"1\" class=\"dataframe\">\n",
              "  <thead>\n",
              "    <tr style=\"text-align: right;\">\n",
              "      <th></th>\n",
              "      <th>id</th>\n",
              "      <th>date</th>\n",
              "      <th>price</th>\n",
              "      <th>bedrooms</th>\n",
              "      <th>bathrooms</th>\n",
              "      <th>sqft_living</th>\n",
              "      <th>sqft_lot</th>\n",
              "      <th>floors</th>\n",
              "      <th>waterfront</th>\n",
              "      <th>view</th>\n",
              "      <th>...</th>\n",
              "      <th>grade</th>\n",
              "      <th>sqft_above</th>\n",
              "      <th>sqft_basement</th>\n",
              "      <th>yr_built</th>\n",
              "      <th>yr_renovated</th>\n",
              "      <th>zipcode</th>\n",
              "      <th>lat</th>\n",
              "      <th>long</th>\n",
              "      <th>sqft_living15</th>\n",
              "      <th>sqft_lot15</th>\n",
              "    </tr>\n",
              "  </thead>\n",
              "  <tbody>\n",
              "    <tr>\n",
              "      <th>0</th>\n",
              "      <td>7129300520</td>\n",
              "      <td>20141013T000000</td>\n",
              "      <td>221900.0</td>\n",
              "      <td>3</td>\n",
              "      <td>1.00</td>\n",
              "      <td>1180</td>\n",
              "      <td>5650</td>\n",
              "      <td>1.0</td>\n",
              "      <td>0</td>\n",
              "      <td>0</td>\n",
              "      <td>...</td>\n",
              "      <td>7</td>\n",
              "      <td>1180</td>\n",
              "      <td>0</td>\n",
              "      <td>1955</td>\n",
              "      <td>0</td>\n",
              "      <td>98178</td>\n",
              "      <td>47.5112</td>\n",
              "      <td>-122.257</td>\n",
              "      <td>1340</td>\n",
              "      <td>5650</td>\n",
              "    </tr>\n",
              "    <tr>\n",
              "      <th>1</th>\n",
              "      <td>6414100192</td>\n",
              "      <td>20141209T000000</td>\n",
              "      <td>538000.0</td>\n",
              "      <td>3</td>\n",
              "      <td>2.25</td>\n",
              "      <td>2570</td>\n",
              "      <td>7242</td>\n",
              "      <td>2.0</td>\n",
              "      <td>0</td>\n",
              "      <td>0</td>\n",
              "      <td>...</td>\n",
              "      <td>7</td>\n",
              "      <td>2170</td>\n",
              "      <td>400</td>\n",
              "      <td>1951</td>\n",
              "      <td>1991</td>\n",
              "      <td>98125</td>\n",
              "      <td>47.7210</td>\n",
              "      <td>-122.319</td>\n",
              "      <td>1690</td>\n",
              "      <td>7639</td>\n",
              "    </tr>\n",
              "    <tr>\n",
              "      <th>2</th>\n",
              "      <td>5631500400</td>\n",
              "      <td>20150225T000000</td>\n",
              "      <td>180000.0</td>\n",
              "      <td>2</td>\n",
              "      <td>1.00</td>\n",
              "      <td>770</td>\n",
              "      <td>10000</td>\n",
              "      <td>1.0</td>\n",
              "      <td>0</td>\n",
              "      <td>0</td>\n",
              "      <td>...</td>\n",
              "      <td>6</td>\n",
              "      <td>770</td>\n",
              "      <td>0</td>\n",
              "      <td>1933</td>\n",
              "      <td>0</td>\n",
              "      <td>98028</td>\n",
              "      <td>47.7379</td>\n",
              "      <td>-122.233</td>\n",
              "      <td>2720</td>\n",
              "      <td>8062</td>\n",
              "    </tr>\n",
              "    <tr>\n",
              "      <th>3</th>\n",
              "      <td>2487200875</td>\n",
              "      <td>20141209T000000</td>\n",
              "      <td>604000.0</td>\n",
              "      <td>4</td>\n",
              "      <td>3.00</td>\n",
              "      <td>1960</td>\n",
              "      <td>5000</td>\n",
              "      <td>1.0</td>\n",
              "      <td>0</td>\n",
              "      <td>0</td>\n",
              "      <td>...</td>\n",
              "      <td>7</td>\n",
              "      <td>1050</td>\n",
              "      <td>910</td>\n",
              "      <td>1965</td>\n",
              "      <td>0</td>\n",
              "      <td>98136</td>\n",
              "      <td>47.5208</td>\n",
              "      <td>-122.393</td>\n",
              "      <td>1360</td>\n",
              "      <td>5000</td>\n",
              "    </tr>\n",
              "    <tr>\n",
              "      <th>4</th>\n",
              "      <td>1954400510</td>\n",
              "      <td>20150218T000000</td>\n",
              "      <td>510000.0</td>\n",
              "      <td>3</td>\n",
              "      <td>2.00</td>\n",
              "      <td>1680</td>\n",
              "      <td>8080</td>\n",
              "      <td>1.0</td>\n",
              "      <td>0</td>\n",
              "      <td>0</td>\n",
              "      <td>...</td>\n",
              "      <td>8</td>\n",
              "      <td>1680</td>\n",
              "      <td>0</td>\n",
              "      <td>1987</td>\n",
              "      <td>0</td>\n",
              "      <td>98074</td>\n",
              "      <td>47.6168</td>\n",
              "      <td>-122.045</td>\n",
              "      <td>1800</td>\n",
              "      <td>7503</td>\n",
              "    </tr>\n",
              "  </tbody>\n",
              "</table>\n",
              "<p>5 rows × 21 columns</p>\n",
              "</div>\n",
              "      <button class=\"colab-df-convert\" onclick=\"convertToInteractive('df-3766729b-f5e5-41f0-aca7-9606f5f3431c')\"\n",
              "              title=\"Convert this dataframe to an interactive table.\"\n",
              "              style=\"display:none;\">\n",
              "        \n",
              "  <svg xmlns=\"http://www.w3.org/2000/svg\" height=\"24px\"viewBox=\"0 0 24 24\"\n",
              "       width=\"24px\">\n",
              "    <path d=\"M0 0h24v24H0V0z\" fill=\"none\"/>\n",
              "    <path d=\"M18.56 5.44l.94 2.06.94-2.06 2.06-.94-2.06-.94-.94-2.06-.94 2.06-2.06.94zm-11 1L8.5 8.5l.94-2.06 2.06-.94-2.06-.94L8.5 2.5l-.94 2.06-2.06.94zm10 10l.94 2.06.94-2.06 2.06-.94-2.06-.94-.94-2.06-.94 2.06-2.06.94z\"/><path d=\"M17.41 7.96l-1.37-1.37c-.4-.4-.92-.59-1.43-.59-.52 0-1.04.2-1.43.59L10.3 9.45l-7.72 7.72c-.78.78-.78 2.05 0 2.83L4 21.41c.39.39.9.59 1.41.59.51 0 1.02-.2 1.41-.59l7.78-7.78 2.81-2.81c.8-.78.8-2.07 0-2.86zM5.41 20L4 18.59l7.72-7.72 1.47 1.35L5.41 20z\"/>\n",
              "  </svg>\n",
              "      </button>\n",
              "      \n",
              "  <style>\n",
              "    .colab-df-container {\n",
              "      display:flex;\n",
              "      flex-wrap:wrap;\n",
              "      gap: 12px;\n",
              "    }\n",
              "\n",
              "    .colab-df-convert {\n",
              "      background-color: #E8F0FE;\n",
              "      border: none;\n",
              "      border-radius: 50%;\n",
              "      cursor: pointer;\n",
              "      display: none;\n",
              "      fill: #1967D2;\n",
              "      height: 32px;\n",
              "      padding: 0 0 0 0;\n",
              "      width: 32px;\n",
              "    }\n",
              "\n",
              "    .colab-df-convert:hover {\n",
              "      background-color: #E2EBFA;\n",
              "      box-shadow: 0px 1px 2px rgba(60, 64, 67, 0.3), 0px 1px 3px 1px rgba(60, 64, 67, 0.15);\n",
              "      fill: #174EA6;\n",
              "    }\n",
              "\n",
              "    [theme=dark] .colab-df-convert {\n",
              "      background-color: #3B4455;\n",
              "      fill: #D2E3FC;\n",
              "    }\n",
              "\n",
              "    [theme=dark] .colab-df-convert:hover {\n",
              "      background-color: #434B5C;\n",
              "      box-shadow: 0px 1px 3px 1px rgba(0, 0, 0, 0.15);\n",
              "      filter: drop-shadow(0px 1px 2px rgba(0, 0, 0, 0.3));\n",
              "      fill: #FFFFFF;\n",
              "    }\n",
              "  </style>\n",
              "\n",
              "      <script>\n",
              "        const buttonEl =\n",
              "          document.querySelector('#df-3766729b-f5e5-41f0-aca7-9606f5f3431c button.colab-df-convert');\n",
              "        buttonEl.style.display =\n",
              "          google.colab.kernel.accessAllowed ? 'block' : 'none';\n",
              "\n",
              "        async function convertToInteractive(key) {\n",
              "          const element = document.querySelector('#df-3766729b-f5e5-41f0-aca7-9606f5f3431c');\n",
              "          const dataTable =\n",
              "            await google.colab.kernel.invokeFunction('convertToInteractive',\n",
              "                                                     [key], {});\n",
              "          if (!dataTable) return;\n",
              "\n",
              "          const docLinkHtml = 'Like what you see? Visit the ' +\n",
              "            '<a target=\"_blank\" href=https://colab.research.google.com/notebooks/data_table.ipynb>data table notebook</a>'\n",
              "            + ' to learn more about interactive tables.';\n",
              "          element.innerHTML = '';\n",
              "          dataTable['output_type'] = 'display_data';\n",
              "          await google.colab.output.renderOutput(dataTable, element);\n",
              "          const docLink = document.createElement('div');\n",
              "          docLink.innerHTML = docLinkHtml;\n",
              "          element.appendChild(docLink);\n",
              "        }\n",
              "      </script>\n",
              "    </div>\n",
              "  </div>\n",
              "  "
            ]
          },
          "metadata": {},
          "execution_count": 3
        }
      ]
    },
    {
      "cell_type": "markdown",
      "source": [
        "##### Data Manipulation"
      ],
      "metadata": {
        "id": "2ETYlgodgkUK"
      }
    },
    {
      "cell_type": "code",
      "source": [
        "house_sales.isnull().sum()"
      ],
      "metadata": {
        "colab": {
          "base_uri": "https://localhost:8080/"
        },
        "id": "RxPdSvAAgR7L",
        "outputId": "edeede71-dfd2-4fd6-935a-cdde94006709"
      },
      "execution_count": null,
      "outputs": [
        {
          "output_type": "execute_result",
          "data": {
            "text/plain": [
              "id               0\n",
              "date             0\n",
              "price            0\n",
              "bedrooms         0\n",
              "bathrooms        0\n",
              "sqft_living      0\n",
              "sqft_lot         0\n",
              "floors           0\n",
              "waterfront       0\n",
              "view             0\n",
              "condition        0\n",
              "grade            0\n",
              "sqft_above       0\n",
              "sqft_basement    0\n",
              "yr_built         0\n",
              "yr_renovated     0\n",
              "zipcode          0\n",
              "lat              0\n",
              "long             0\n",
              "sqft_living15    0\n",
              "sqft_lot15       0\n",
              "dtype: int64"
            ]
          },
          "metadata": {},
          "execution_count": 4
        }
      ]
    },
    {
      "cell_type": "code",
      "source": [
        "# Drop [id, date]\n",
        "house_sales.drop(['id','date'], axis = 1, inplace = True)"
      ],
      "metadata": {
        "id": "BqFXRP0ggr3O"
      },
      "execution_count": null,
      "outputs": []
    },
    {
      "cell_type": "markdown",
      "source": [
        "##### Assuptions in Linear Regression"
      ],
      "metadata": {
        "id": "DkCLISYyhym-"
      }
    },
    {
      "cell_type": "code",
      "source": [
        "from scipy.stats import norm\n",
        "plt.figure(figsize = (12,8))\n",
        "sns.distplot(house_sales['price'], color = 'm', fit = norm)"
      ],
      "metadata": {
        "colab": {
          "base_uri": "https://localhost:8080/",
          "height": 582
        },
        "id": "ZxuFuYEShddX",
        "outputId": "775c6298-8049-4e7c-e647-d2f95746294b"
      },
      "execution_count": null,
      "outputs": [
        {
          "output_type": "stream",
          "name": "stderr",
          "text": [
            "/usr/local/lib/python3.8/dist-packages/seaborn/distributions.py:2619: FutureWarning: `distplot` is a deprecated function and will be removed in a future version. Please adapt your code to use either `displot` (a figure-level function with similar flexibility) or `histplot` (an axes-level function for histograms).\n",
            "  warnings.warn(msg, FutureWarning)\n"
          ]
        },
        {
          "output_type": "execute_result",
          "data": {
            "text/plain": [
              "<matplotlib.axes._subplots.AxesSubplot at 0x7fd687163ee0>"
            ]
          },
          "metadata": {},
          "execution_count": 6
        },
        {
          "output_type": "display_data",
          "data": {
            "text/plain": [
              "<Figure size 864x576 with 1 Axes>"
            ],
            "image/png": "[encoded data removed]"
          },
          "metadata": {
            "needs_background": "light"
          }
        }
      ]
    },
    {
      "cell_type": "code",
      "source": [
        "plt.figure(figsize = (10,5))\n",
        "sns.boxplot(house_sales['price'])"
      ],
      "metadata": {
        "colab": {
          "base_uri": "https://localhost:8080/",
          "height": 408
        },
        "id": "SzQaBhbKiBt_",
        "outputId": "743e02b3-69cc-4832-a41e-1ed9269000e0"
      },
      "execution_count": null,
      "outputs": [
        {
          "output_type": "stream",
          "name": "stderr",
          "text": [
            "/usr/local/lib/python3.8/dist-packages/seaborn/_decorators.py:36: FutureWarning: Pass the following variable as a keyword arg: x. From version 0.12, the only valid positional argument will be `data`, and passing other arguments without an explicit keyword will result in an error or misinterpretation.\n",
            "  warnings.warn(\n"
          ]
        },
        {
          "output_type": "execute_result",
          "data": {
            "text/plain": [
              "<matplotlib.axes._subplots.AxesSubplot at 0x7fd682359fd0>"
            ]
          },
          "metadata": {},
          "execution_count": 7
        },
        {
          "output_type": "display_data",
          "data": {
            "text/plain": [
              "<Figure size 720x360 with 1 Axes>"
            ],
            "image/png": "[encoded data removed]"
          },
          "metadata": {
            "needs_background": "light"
          }
        }
      ]
    },
    {
      "cell_type": "markdown",
      "source": [
        "##### Handling Outliers - z-score"
      ],
      "metadata": {
        "id": "qron48K-jH7v"
      }
    },
    {
      "cell_type": "code",
      "source": [
        "from scipy.stats import zscore\n",
        "np.abs(zscore(house_sales))"
      ],
      "metadata": {
        "colab": {
          "base_uri": "https://localhost:8080/",
          "height": 487
        },
        "id": "UsjID6IWlaDK",
        "outputId": "5c739265-8591-4a5a-9acb-bd0c15677b4c"
      },
      "execution_count": null,
      "outputs": [
        {
          "output_type": "execute_result",
          "data": {
            "text/plain": [
              "          price  bedrooms  bathrooms  sqft_living  sqft_lot    floors  \\\n",
              "0      0.866717  0.398737   1.447464     0.979835  0.228321  0.915427   \n",
              "1      0.005688  0.398737   0.175607     0.533634  0.189885  0.936506   \n",
              "2      0.980849  1.473959   1.447464     1.426254  0.123298  0.915427   \n",
              "3      0.174090  0.676485   1.149449     0.130550  0.244014  0.915427   \n",
              "4      0.081958  0.398737   0.149007     0.435422  0.169653  0.915427   \n",
              "...         ...       ...        ...          ...       ...       ...   \n",
              "21608  0.490545  0.398737   0.500221     0.598746  0.337424  2.788439   \n",
              "21609  0.381588  0.676485   0.500221     0.250539  0.224386  0.936506   \n",
              "21610  0.375865  1.473959   1.772078     1.154047  0.332137  0.936506   \n",
              "21611  0.381588  0.398737   0.500221     0.522528  0.307076  0.936506   \n",
              "21612  0.585882  1.473959   1.772078     1.154047  0.338752  0.936506   \n",
              "\n",
              "       waterfront      view  condition     grade  sqft_above  sqft_basement  \\\n",
              "0        0.087173  0.305759   0.629187  0.558836    0.734708       0.658681   \n",
              "1        0.087173  0.305759   0.629187  0.558836    0.460841       0.245141   \n",
              "2        0.087173  0.305759   0.629187  1.409587    1.229834       0.658681   \n",
              "3        0.087173  0.305759   2.444294  0.558836    0.891699       1.397515   \n",
              "4        0.087173  0.305759   0.629187  0.291916    0.130895       0.658681   \n",
              "...           ...       ...        ...       ...         ...            ...   \n",
              "21608    0.087173  0.305759   0.629187  0.291916    0.312039       0.658681   \n",
              "21609    0.087173  0.305759   0.629187  0.291916    0.629908       0.658681   \n",
              "21610    0.087173  0.305759   0.629187  0.558836    0.927928       0.658681   \n",
              "21611    0.087173  0.305759   0.629187  0.291916    0.227505       0.658681   \n",
              "21612    0.087173  0.305759   0.629187  0.558836    0.927928       0.658681   \n",
              "\n",
              "       yr_built  yr_renovated   zipcode       lat      long  sqft_living15  \\\n",
              "0      0.544898      0.210128  1.870152  0.352572  0.306079       0.943355   \n",
              "1      0.681079      4.746678  0.879568  1.161568  0.746341       0.432686   \n",
              "2      1.293892      0.210128  0.933388  1.283537  0.135655       1.070140   \n",
              "3      0.204446      0.210128  1.085160  0.283288  1.271816       0.914174   \n",
              "4      0.544548      0.210128  0.073636  0.409550  1.199335       0.272190   \n",
              "...         ...           ...       ...       ...       ...            ...   \n",
              "21608  1.293542      0.210128  0.468382  1.004958  0.938069       0.666135   \n",
              "21609  1.463768      0.210128  1.272063  0.356180  1.051685       0.228419   \n",
              "21610  1.293542      0.210128  1.234683  0.247888  0.604321       1.410253   \n",
              "21611  1.123316      0.210128  0.952078  0.184414  1.028910       0.841221   \n",
              "21612  1.259497      0.210128  1.234683  0.245723  0.604321       1.410253   \n",
              "\n",
              "       sqft_lot15  \n",
              "0        0.260715  \n",
              "1        0.187868  \n",
              "2        0.172375  \n",
              "3        0.284522  \n",
              "4        0.192849  \n",
              "...           ...  \n",
              "21608    0.412381  \n",
              "21609    0.203946  \n",
              "21610    0.394141  \n",
              "21611    0.420511  \n",
              "21612    0.417948  \n",
              "\n",
              "[21613 rows x 19 columns]"
            ],
            "text/html": [
              "\n",
              "  <div id=\"df-4c3b3fde-db94-4be2-abb5-b0870a5fa29e\">\n",
              "    <div class=\"colab-df-container\">\n",
              "      <div>\n",
              "<style scoped>\n",
              "    .dataframe tbody tr th:only-of-type {\n",
              "        vertical-align: middle;\n",
              "    }\n",
              "\n",
              "    .dataframe tbody tr th {\n",
              "        vertical-align: top;\n",
              "    }\n",
              "\n",
              "    .dataframe thead th {\n",
              "        text-align: right;\n",
              "    }\n",
              "</style>\n",
              "<table border=\"1\" class=\"dataframe\">\n",
              "  <thead>\n",
              "    <tr style=\"text-align: right;\">\n",
              "      <th></th>\n",
              "      <th>price</th>\n",
              "      <th>bedrooms</th>\n",
              "      <th>bathrooms</th>\n",
              "      <th>sqft_living</th>\n",
              "      <th>sqft_lot</th>\n",
              "      <th>floors</th>\n",
              "      <th>waterfront</th>\n",
              "      <th>view</th>\n",
              "      <th>condition</th>\n",
              "      <th>grade</th>\n",
              "      <th>sqft_above</th>\n",
              "      <th>sqft_basement</th>\n",
              "      <th>yr_built</th>\n",
              "      <th>yr_renovated</th>\n",
              "      <th>zipcode</th>\n",
              "      <th>lat</th>\n",
              "      <th>long</th>\n",
              "      <th>sqft_living15</th>\n",
              "      <th>sqft_lot15</th>\n",
              "    </tr>\n",
              "  </thead>\n",
              "  <tbody>\n",
              "    <tr>\n",
              "      <th>0</th>\n",
              "      <td>0.866717</td>\n",
              "      <td>0.398737</td>\n",
              "      <td>1.447464</td>\n",
              "      <td>0.979835</td>\n",
              "      <td>0.228321</td>\n",
              "      <td>0.915427</td>\n",
              "      <td>0.087173</td>\n",
              "      <td>0.305759</td>\n",
              "      <td>0.629187</td>\n",
              "      <td>0.558836</td>\n",
              "      <td>0.734708</td>\n",
              "      <td>0.658681</td>\n",
              "      <td>0.544898</td>\n",
              "      <td>0.210128</td>\n",
              "      <td>1.870152</td>\n",
              "      <td>0.352572</td>\n",
              "      <td>0.306079</td>\n",
              "      <td>0.943355</td>\n",
              "      <td>0.260715</td>\n",
              "    </tr>\n",
              "    <tr>\n",
              "      <th>1</th>\n",
              "      <td>0.005688</td>\n",
              "      <td>0.398737</td>\n",
              "      <td>0.175607</td>\n",
              "      <td>0.533634</td>\n",
              "      <td>0.189885</td>\n",
              "      <td>0.936506</td>\n",
              "      <td>0.087173</td>\n",
              "      <td>0.305759</td>\n",
              "      <td>0.629187</td>\n",
              "      <td>0.558836</td>\n",
              "      <td>0.460841</td>\n",
              "      <td>0.245141</td>\n",
              "      <td>0.681079</td>\n",
              "      <td>4.746678</td>\n",
              "      <td>0.879568</td>\n",
              "      <td>1.161568</td>\n",
              "      <td>0.746341</td>\n",
              "      <td>0.432686</td>\n",
              "      <td>0.187868</td>\n",
              "    </tr>\n",
              "    <tr>\n",
              "      <th>2</th>\n",
              "      <td>0.980849</td>\n",
              "      <td>1.473959</td>\n",
              "      <td>1.447464</td>\n",
              "      <td>1.426254</td>\n",
              "      <td>0.123298</td>\n",
              "      <td>0.915427</td>\n",
              "      <td>0.087173</td>\n",
              "      <td>0.305759</td>\n",
              "      <td>0.629187</td>\n",
              "      <td>1.409587</td>\n",
              "      <td>1.229834</td>\n",
              "      <td>0.658681</td>\n",
              "      <td>1.293892</td>\n",
              "      <td>0.210128</td>\n",
              "      <td>0.933388</td>\n",
              "      <td>1.283537</td>\n",
              "      <td>0.135655</td>\n",
              "      <td>1.070140</td>\n",
              "      <td>0.172375</td>\n",
              "    </tr>\n",
              "    <tr>\n",
              "      <th>3</th>\n",
              "      <td>0.174090</td>\n",
              "      <td>0.676485</td>\n",
              "      <td>1.149449</td>\n",
              "      <td>0.130550</td>\n",
              "      <td>0.244014</td>\n",
              "      <td>0.915427</td>\n",
              "      <td>0.087173</td>\n",
              "      <td>0.305759</td>\n",
              "      <td>2.444294</td>\n",
              "      <td>0.558836</td>\n",
              "      <td>0.891699</td>\n",
              "      <td>1.397515</td>\n",
              "      <td>0.204446</td>\n",
              "      <td>0.210128</td>\n",
              "      <td>1.085160</td>\n",
              "      <td>0.283288</td>\n",
              "      <td>1.271816</td>\n",
              "      <td>0.914174</td>\n",
              "      <td>0.284522</td>\n",
              "    </tr>\n",
              "    <tr>\n",
              "      <th>4</th>\n",
              "      <td>0.081958</td>\n",
              "      <td>0.398737</td>\n",
              "      <td>0.149007</td>\n",
              "      <td>0.435422</td>\n",
              "      <td>0.169653</td>\n",
              "      <td>0.915427</td>\n",
              "      <td>0.087173</td>\n",
              "      <td>0.305759</td>\n",
              "      <td>0.629187</td>\n",
              "      <td>0.291916</td>\n",
              "      <td>0.130895</td>\n",
              "      <td>0.658681</td>\n",
              "      <td>0.544548</td>\n",
              "      <td>0.210128</td>\n",
              "      <td>0.073636</td>\n",
              "      <td>0.409550</td>\n",
              "      <td>1.199335</td>\n",
              "      <td>0.272190</td>\n",
              "      <td>0.192849</td>\n",
              "    </tr>\n",
              "    <tr>\n",
              "      <th>...</th>\n",
              "      <td>...</td>\n",
              "      <td>...</td>\n",
              "      <td>...</td>\n",
              "      <td>...</td>\n",
              "      <td>...</td>\n",
              "      <td>...</td>\n",
              "      <td>...</td>\n",
              "      <td>...</td>\n",
              "      <td>...</td>\n",
              "      <td>...</td>\n",
              "      <td>...</td>\n",
              "      <td>...</td>\n",
              "      <td>...</td>\n",
              "      <td>...</td>\n",
              "      <td>...</td>\n",
              "      <td>...</td>\n",
              "      <td>...</td>\n",
              "      <td>...</td>\n",
              "      <td>...</td>\n",
              "    </tr>\n",
              "    <tr>\n",
              "      <th>21608</th>\n",
              "      <td>0.490545</td>\n",
              "      <td>0.398737</td>\n",
              "      <td>0.500221</td>\n",
              "      <td>0.598746</td>\n",
              "      <td>0.337424</td>\n",
              "      <td>2.788439</td>\n",
              "      <td>0.087173</td>\n",
              "      <td>0.305759</td>\n",
              "      <td>0.629187</td>\n",
              "      <td>0.291916</td>\n",
              "      <td>0.312039</td>\n",
              "      <td>0.658681</td>\n",
              "      <td>1.293542</td>\n",
              "      <td>0.210128</td>\n",
              "      <td>0.468382</td>\n",
              "      <td>1.004958</td>\n",
              "      <td>0.938069</td>\n",
              "      <td>0.666135</td>\n",
              "      <td>0.412381</td>\n",
              "    </tr>\n",
              "    <tr>\n",
              "      <th>21609</th>\n",
              "      <td>0.381588</td>\n",
              "      <td>0.676485</td>\n",
              "      <td>0.500221</td>\n",
              "      <td>0.250539</td>\n",
              "      <td>0.224386</td>\n",
              "      <td>0.936506</td>\n",
              "      <td>0.087173</td>\n",
              "      <td>0.305759</td>\n",
              "      <td>0.629187</td>\n",
              "      <td>0.291916</td>\n",
              "      <td>0.629908</td>\n",
              "      <td>0.658681</td>\n",
              "      <td>1.463768</td>\n",
              "      <td>0.210128</td>\n",
              "      <td>1.272063</td>\n",
              "      <td>0.356180</td>\n",
              "      <td>1.051685</td>\n",
              "      <td>0.228419</td>\n",
              "      <td>0.203946</td>\n",
              "    </tr>\n",
              "    <tr>\n",
              "      <th>21610</th>\n",
              "      <td>0.375865</td>\n",
              "      <td>1.473959</td>\n",
              "      <td>1.772078</td>\n",
              "      <td>1.154047</td>\n",
              "      <td>0.332137</td>\n",
              "      <td>0.936506</td>\n",
              "      <td>0.087173</td>\n",
              "      <td>0.305759</td>\n",
              "      <td>0.629187</td>\n",
              "      <td>0.558836</td>\n",
              "      <td>0.927928</td>\n",
              "      <td>0.658681</td>\n",
              "      <td>1.293542</td>\n",
              "      <td>0.210128</td>\n",
              "      <td>1.234683</td>\n",
              "      <td>0.247888</td>\n",
              "      <td>0.604321</td>\n",
              "      <td>1.410253</td>\n",
              "      <td>0.394141</td>\n",
              "    </tr>\n",
              "    <tr>\n",
              "      <th>21611</th>\n",
              "      <td>0.381588</td>\n",
              "      <td>0.398737</td>\n",
              "      <td>0.500221</td>\n",
              "      <td>0.522528</td>\n",
              "      <td>0.307076</td>\n",
              "      <td>0.936506</td>\n",
              "      <td>0.087173</td>\n",
              "      <td>0.305759</td>\n",
              "      <td>0.629187</td>\n",
              "      <td>0.291916</td>\n",
              "      <td>0.227505</td>\n",
              "      <td>0.658681</td>\n",
              "      <td>1.123316</td>\n",
              "      <td>0.210128</td>\n",
              "      <td>0.952078</td>\n",
              "      <td>0.184414</td>\n",
              "      <td>1.028910</td>\n",
              "      <td>0.841221</td>\n",
              "      <td>0.420511</td>\n",
              "    </tr>\n",
              "    <tr>\n",
              "      <th>21612</th>\n",
              "      <td>0.585882</td>\n",
              "      <td>1.473959</td>\n",
              "      <td>1.772078</td>\n",
              "      <td>1.154047</td>\n",
              "      <td>0.338752</td>\n",
              "      <td>0.936506</td>\n",
              "      <td>0.087173</td>\n",
              "      <td>0.305759</td>\n",
              "      <td>0.629187</td>\n",
              "      <td>0.558836</td>\n",
              "      <td>0.927928</td>\n",
              "      <td>0.658681</td>\n",
              "      <td>1.259497</td>\n",
              "      <td>0.210128</td>\n",
              "      <td>1.234683</td>\n",
              "      <td>0.245723</td>\n",
              "      <td>0.604321</td>\n",
              "      <td>1.410253</td>\n",
              "      <td>0.417948</td>\n",
              "    </tr>\n",
              "  </tbody>\n",
              "</table>\n",
              "<p>21613 rows × 19 columns</p>\n",
              "</div>\n",
              "      <button class=\"colab-df-convert\" onclick=\"convertToInteractive('df-4c3b3fde-db94-4be2-abb5-b0870a5fa29e')\"\n",
              "              title=\"Convert this dataframe to an interactive table.\"\n",
              "              style=\"display:none;\">\n",
              "        \n",
              "  <svg xmlns=\"http://www.w3.org/2000/svg\" height=\"24px\"viewBox=\"0 0 24 24\"\n",
              "       width=\"24px\">\n",
              "    <path d=\"M0 0h24v24H0V0z\" fill=\"none\"/>\n",
              "    <path d=\"M18.56 5.44l.94 2.06.94-2.06 2.06-.94-2.06-.94-.94-2.06-.94 2.06-2.06.94zm-11 1L8.5 8.5l.94-2.06 2.06-.94-2.06-.94L8.5 2.5l-.94 2.06-2.06.94zm10 10l.94 2.06.94-2.06 2.06-.94-2.06-.94-.94-2.06-.94 2.06-2.06.94z\"/><path d=\"M17.41 7.96l-1.37-1.37c-.4-.4-.92-.59-1.43-.59-.52 0-1.04.2-1.43.59L10.3 9.45l-7.72 7.72c-.78.78-.78 2.05 0 2.83L4 21.41c.39.39.9.59 1.41.59.51 0 1.02-.2 1.41-.59l7.78-7.78 2.81-2.81c.8-.78.8-2.07 0-2.86zM5.41 20L4 18.59l7.72-7.72 1.47 1.35L5.41 20z\"/>\n",
              "  </svg>\n",
              "      </button>\n",
              "      \n",
              "  <style>\n",
              "    .colab-df-container {\n",
              "      display:flex;\n",
              "      flex-wrap:wrap;\n",
              "      gap: 12px;\n",
              "    }\n",
              "\n",
              "    .colab-df-convert {\n",
              "      background-color: #E8F0FE;\n",
              "      border: none;\n",
              "      border-radius: 50%;\n",
              "      cursor: pointer;\n",
              "      display: none;\n",
              "      fill: #1967D2;\n",
              "      height: 32px;\n",
              "      padding: 0 0 0 0;\n",
              "      width: 32px;\n",
              "    }\n",
              "\n",
              "    .colab-df-convert:hover {\n",
              "      background-color: #E2EBFA;\n",
              "      box-shadow: 0px 1px 2px rgba(60, 64, 67, 0.3), 0px 1px 3px 1px rgba(60, 64, 67, 0.15);\n",
              "      fill: #174EA6;\n",
              "    }\n",
              "\n",
              "    [theme=dark] .colab-df-convert {\n",
              "      background-color: #3B4455;\n",
              "      fill: #D2E3FC;\n",
              "    }\n",
              "\n",
              "    [theme=dark] .colab-df-convert:hover {\n",
              "      background-color: #434B5C;\n",
              "      box-shadow: 0px 1px 3px 1px rgba(0, 0, 0, 0.15);\n",
              "      filter: drop-shadow(0px 1px 2px rgba(0, 0, 0, 0.3));\n",
              "      fill: #FFFFFF;\n",
              "    }\n",
              "  </style>\n",
              "\n",
              "      <script>\n",
              "        const buttonEl =\n",
              "          document.querySelector('#df-4c3b3fde-db94-4be2-abb5-b0870a5fa29e button.colab-df-convert');\n",
              "        buttonEl.style.display =\n",
              "          google.colab.kernel.accessAllowed ? 'block' : 'none';\n",
              "\n",
              "        async function convertToInteractive(key) {\n",
              "          const element = document.querySelector('#df-4c3b3fde-db94-4be2-abb5-b0870a5fa29e');\n",
              "          const dataTable =\n",
              "            await google.colab.kernel.invokeFunction('convertToInteractive',\n",
              "                                                     [key], {});\n",
              "          if (!dataTable) return;\n",
              "\n",
              "          const docLinkHtml = 'Like what you see? Visit the ' +\n",
              "            '<a target=\"_blank\" href=https://colab.research.google.com/notebooks/data_table.ipynb>data table notebook</a>'\n",
              "            + ' to learn more about interactive tables.';\n",
              "          element.innerHTML = '';\n",
              "          dataTable['output_type'] = 'display_data';\n",
              "          await google.colab.output.renderOutput(dataTable, element);\n",
              "          const docLink = document.createElement('div');\n",
              "          docLink.innerHTML = docLinkHtml;\n",
              "          element.appendChild(docLink);\n",
              "        }\n",
              "      </script>\n",
              "    </div>\n",
              "  </div>\n",
              "  "
            ]
          },
          "metadata": {},
          "execution_count": 9
        }
      ]
    },
    {
      "cell_type": "code",
      "source": [
        "z = np.abs(zscore(house_sales))"
      ],
      "metadata": {
        "id": "Ts8yvp1fiaOc"
      },
      "execution_count": null,
      "outputs": []
    },
    {
      "cell_type": "code",
      "source": [
        "np.where(z > 4)"
      ],
      "metadata": {
        "colab": {
          "base_uri": "https://localhost:8080/"
        },
        "id": "iRQz2ubSjYQj",
        "outputId": "dd05455c-7eb8-44dd-d314-92023b6fd917"
      },
      "execution_count": null,
      "outputs": [
        {
          "output_type": "execute_result",
          "data": {
            "text/plain": [
              "(array([    1,     5,    21, ..., 21576, 21576, 21576]),\n",
              " array([13, 17,  7, ...,  0,  6,  7]))"
            ]
          },
          "metadata": {},
          "execution_count": 11
        }
      ]
    },
    {
      "cell_type": "code",
      "source": [
        "len(np.where(z > 4)[0])"
      ],
      "metadata": {
        "colab": {
          "base_uri": "https://localhost:8080/"
        },
        "id": "jzWEuzBajsEQ",
        "outputId": "c4e6676c-a763-4b4c-b1b8-1ba55573d062"
      },
      "execution_count": null,
      "outputs": [
        {
          "output_type": "execute_result",
          "data": {
            "text/plain": [
              "2528"
            ]
          },
          "metadata": {},
          "execution_count": 12
        }
      ]
    },
    {
      "cell_type": "code",
      "source": [
        "house_sales.shape"
      ],
      "metadata": {
        "colab": {
          "base_uri": "https://localhost:8080/"
        },
        "id": "po6UyO3Xj6go",
        "outputId": "f257e809-6234-4c2e-8d2b-8db8f69855a8"
      },
      "execution_count": null,
      "outputs": [
        {
          "output_type": "execute_result",
          "data": {
            "text/plain": [
              "(21613, 19)"
            ]
          },
          "metadata": {},
          "execution_count": 13
        }
      ]
    },
    {
      "cell_type": "code",
      "source": [
        "house_df = house_sales.drop(np.where(z > 4)[0], axis = 0)"
      ],
      "metadata": {
        "id": "XbJY3uHVkBmk"
      },
      "execution_count": null,
      "outputs": []
    },
    {
      "cell_type": "code",
      "source": [
        "house_df.shape"
      ],
      "metadata": {
        "colab": {
          "base_uri": "https://localhost:8080/"
        },
        "id": "bbS14pWOknh1",
        "outputId": "328c7867-a768-4716-e17a-9335d7fded60"
      },
      "execution_count": null,
      "outputs": [
        {
          "output_type": "execute_result",
          "data": {
            "text/plain": [
              "(19811, 19)"
            ]
          },
          "metadata": {},
          "execution_count": 15
        }
      ]
    },
    {
      "cell_type": "code",
      "source": [
        "from scipy.stats import norm\n",
        "plt.figure(figsize = (12,8))\n",
        "sns.distplot(house_df['price'], color = 'm', fit = norm)"
      ],
      "metadata": {
        "colab": {
          "base_uri": "https://localhost:8080/",
          "height": 582
        },
        "id": "5Q8z2yWskqJ-",
        "outputId": "8693d4f6-e1a4-46e5-d9a7-4af437f4c303"
      },
      "execution_count": null,
      "outputs": [
        {
          "output_type": "stream",
          "name": "stderr",
          "text": [
            "/usr/local/lib/python3.8/dist-packages/seaborn/distributions.py:2619: FutureWarning: `distplot` is a deprecated function and will be removed in a future version. Please adapt your code to use either `displot` (a figure-level function with similar flexibility) or `histplot` (an axes-level function for histograms).\n",
            "  warnings.warn(msg, FutureWarning)\n"
          ]
        },
        {
          "output_type": "execute_result",
          "data": {
            "text/plain": [
              "<matplotlib.axes._subplots.AxesSubplot at 0x7fd68234c0d0>"
            ]
          },
          "metadata": {},
          "execution_count": 16
        },
        {
          "output_type": "display_data",
          "data": {
            "text/plain": [
              "<Figure size 864x576 with 1 Axes>"
            ],
            "image/png": "[encoded data removed]"
          },
          "metadata": {
            "needs_background": "light"
          }
        }
      ]
    },
    {
      "cell_type": "markdown",
      "source": [
        "##### Correlation Coefficient (-1,+1)\n",
        "    * It is statistical concept which tells you the strength and direction of relationship between two numerical variables."
      ],
      "metadata": {
        "id": "6IewM6F6opyA"
      }
    },
    {
      "cell_type": "code",
      "source": [
        "house_df.corr()"
      ],
      "metadata": {
        "colab": {
          "base_uri": "https://localhost:8080/",
          "height": 709
        },
        "id": "hL7dIKckmORm",
        "outputId": "15f7785f-9084-4f25-fbdf-4be67812bf8c"
      },
      "execution_count": null,
      "outputs": [
        {
          "output_type": "execute_result",
          "data": {
            "text/plain": [
              "                  price  bedrooms  bathrooms  sqft_living  sqft_lot    floors  \\\n",
              "price          1.000000  0.321286   0.481714     0.660276  0.105647  0.279860   \n",
              "bedrooms       0.321286  1.000000   0.510727     0.608286  0.090847  0.167300   \n",
              "bathrooms      0.481714  0.510727   1.000000     0.730185  0.072335  0.512301   \n",
              "sqft_living    0.660276  0.608286   0.730185     1.000000  0.226017  0.357483   \n",
              "sqft_lot       0.105647  0.090847   0.072335     0.226017  1.000000 -0.078770   \n",
              "floors         0.279860  0.167300   0.512301     0.357483 -0.078770  1.000000   \n",
              "waterfront          NaN       NaN        NaN          NaN       NaN       NaN   \n",
              "view           0.269650  0.064322   0.122469     0.203955  0.044459 -0.001011   \n",
              "condition      0.048557  0.027448  -0.135104    -0.066148  0.024536 -0.280868   \n",
              "grade          0.667969  0.355461   0.639737     0.740311  0.145014  0.467558   \n",
              "sqft_above     0.570948  0.493195   0.656148     0.863266  0.219297  0.537070   \n",
              "sqft_basement  0.245349  0.286285   0.225857     0.374239  0.040153 -0.285958   \n",
              "yr_built       0.082016  0.180255   0.572693     0.367693  0.036384  0.532429   \n",
              "yr_renovated        NaN       NaN        NaN          NaN       NaN       NaN   \n",
              "zipcode       -0.051302 -0.172308  -0.224431    -0.219105 -0.179602 -0.068870   \n",
              "lat            0.392863 -0.028594   0.007217     0.039630 -0.069257  0.043249   \n",
              "long           0.052420  0.161829   0.260446     0.280128  0.279318  0.140276   \n",
              "sqft_living15  0.585281  0.411443   0.556321     0.763875  0.251142  0.283205   \n",
              "sqft_lot15     0.098728  0.093223   0.079813     0.230192  0.792672 -0.079748   \n",
              "\n",
              "               waterfront      view  condition     grade  sqft_above  \\\n",
              "price                 NaN  0.269650   0.048557  0.667969    0.570948   \n",
              "bedrooms              NaN  0.064322   0.027448  0.355461    0.493195   \n",
              "bathrooms             NaN  0.122469  -0.135104  0.639737    0.656148   \n",
              "sqft_living           NaN  0.203955  -0.066148  0.740311    0.863266   \n",
              "sqft_lot              NaN  0.044459   0.024536  0.145014    0.219297   \n",
              "floors                NaN -0.001011  -0.280868  0.467558    0.537070   \n",
              "waterfront            NaN       NaN        NaN       NaN         NaN   \n",
              "view                  NaN  1.000000   0.035877  0.179625    0.095178   \n",
              "condition             NaN  0.035877   1.000000 -0.162404   -0.176069   \n",
              "grade                 NaN  0.179625  -0.162404  1.000000    0.737947   \n",
              "sqft_above            NaN  0.095178  -0.176069  0.737947    1.000000   \n",
              "sqft_basement         NaN  0.224939   0.193811  0.095424   -0.145001   \n",
              "yr_built              NaN -0.047142  -0.391591  0.488096    0.470749   \n",
              "yr_renovated          NaN       NaN        NaN       NaN         NaN   \n",
              "zipcode               NaN  0.087257   0.004355 -0.196849   -0.282117   \n",
              "lat                   NaN  0.006220  -0.006739  0.109172   -0.015476   \n",
              "long                  NaN -0.075801  -0.109646  0.223164    0.384845   \n",
              "sqft_living15         NaN  0.216358  -0.109399  0.698923    0.738058   \n",
              "sqft_lot15            NaN  0.034759   0.035010  0.159238    0.225510   \n",
              "\n",
              "               sqft_basement  yr_built  yr_renovated   zipcode       lat  \\\n",
              "price               0.245349  0.082016           NaN -0.051302  0.392863   \n",
              "bedrooms            0.286285  0.180255           NaN -0.172308 -0.028594   \n",
              "bathrooms           0.225857  0.572693           NaN -0.224431  0.007217   \n",
              "sqft_living         0.374239  0.367693           NaN -0.219105  0.039630   \n",
              "sqft_lot            0.040153  0.036384           NaN -0.179602 -0.069257   \n",
              "floors             -0.285958  0.532429           NaN -0.068870  0.043249   \n",
              "waterfront               NaN       NaN           NaN       NaN       NaN   \n",
              "view                0.224939 -0.047142           NaN  0.087257  0.006220   \n",
              "condition           0.193811 -0.391591           NaN  0.004355 -0.006739   \n",
              "grade               0.095424  0.488096           NaN -0.196849  0.109172   \n",
              "sqft_above         -0.145001  0.470749           NaN -0.282117 -0.015476   \n",
              "sqft_basement       1.000000 -0.144100           NaN  0.088809  0.106117   \n",
              "yr_built           -0.144100  1.000000           NaN -0.342559 -0.151354   \n",
              "yr_renovated             NaN       NaN           NaN       NaN       NaN   \n",
              "zipcode             0.088809 -0.342559           NaN  1.000000  0.273972   \n",
              "lat                 0.106117 -0.151354           NaN  0.273972  1.000000   \n",
              "long               -0.157924  0.416423           NaN -0.561637 -0.137340   \n",
              "sqft_living15       0.141412  0.348849           NaN -0.292077  0.037176   \n",
              "sqft_lot15          0.036922  0.058513           NaN -0.191515 -0.071066   \n",
              "\n",
              "                   long  sqft_living15  sqft_lot15  \n",
              "price          0.052420       0.585281    0.098728  \n",
              "bedrooms       0.161829       0.411443    0.093223  \n",
              "bathrooms      0.260446       0.556321    0.079813  \n",
              "sqft_living    0.280128       0.763875    0.230192  \n",
              "sqft_lot       0.279318       0.251142    0.792672  \n",
              "floors         0.140276       0.283205   -0.079748  \n",
              "waterfront          NaN            NaN         NaN  \n",
              "view          -0.075801       0.216358    0.034759  \n",
              "condition     -0.109646      -0.109399    0.035010  \n",
              "grade          0.223164       0.698923    0.159238  \n",
              "sqft_above     0.384845       0.738058    0.225510  \n",
              "sqft_basement -0.157924       0.141412    0.036922  \n",
              "yr_built       0.416423       0.348849    0.058513  \n",
              "yr_renovated        NaN            NaN         NaN  \n",
              "zipcode       -0.561637      -0.292077   -0.191515  \n",
              "lat           -0.137340       0.037176   -0.071066  \n",
              "long           1.000000       0.370133    0.312467  \n",
              "sqft_living15  0.370133       1.000000    0.280872  \n",
              "sqft_lot15     0.312467       0.280872    1.000000  "
            ],
            "text/html": [
              "\n",
              "  <div id=\"df-6beeb9a6-fcf5-4768-b5e3-845c8c69a958\">\n",
              "    <div class=\"colab-df-container\">\n",
              "      <div>\n",
              "<style scoped>\n",
              "    .dataframe tbody tr th:only-of-type {\n",
              "        vertical-align: middle;\n",
              "    }\n",
              "\n",
              "    .dataframe tbody tr th {\n",
              "        vertical-align: top;\n",
              "    }\n",
              "\n",
              "    .dataframe thead th {\n",
              "        text-align: right;\n",
              "    }\n",
              "</style>\n",
              "<table border=\"1\" class=\"dataframe\">\n",
              "  <thead>\n",
              "    <tr style=\"text-align: right;\">\n",
              "      <th></th>\n",
              "      <th>price</th>\n",
              "      <th>bedrooms</th>\n",
              "      <th>bathrooms</th>\n",
              "      <th>sqft_living</th>\n",
              "      <th>sqft_lot</th>\n",
              "      <th>floors</th>\n",
              "      <th>waterfront</th>\n",
              "      <th>view</th>\n",
              "      <th>condition</th>\n",
              "      <th>grade</th>\n",
              "      <th>sqft_above</th>\n",
              "      <th>sqft_basement</th>\n",
              "      <th>yr_built</th>\n",
              "      <th>yr_renovated</th>\n",
              "      <th>zipcode</th>\n",
              "      <th>lat</th>\n",
              "      <th>long</th>\n",
              "      <th>sqft_living15</th>\n",
              "      <th>sqft_lot15</th>\n",
              "    </tr>\n",
              "  </thead>\n",
              "  <tbody>\n",
              "    <tr>\n",
              "      <th>price</th>\n",
              "      <td>1.000000</td>\n",
              "      <td>0.321286</td>\n",
              "      <td>0.481714</td>\n",
              "      <td>0.660276</td>\n",
              "      <td>0.105647</td>\n",
              "      <td>0.279860</td>\n",
              "      <td>NaN</td>\n",
              "      <td>0.269650</td>\n",
              "      <td>0.048557</td>\n",
              "      <td>0.667969</td>\n",
              "      <td>0.570948</td>\n",
              "      <td>0.245349</td>\n",
              "      <td>0.082016</td>\n",
              "      <td>NaN</td>\n",
              "      <td>-0.051302</td>\n",
              "      <td>0.392863</td>\n",
              "      <td>0.052420</td>\n",
              "      <td>0.585281</td>\n",
              "      <td>0.098728</td>\n",
              "    </tr>\n",
              "    <tr>\n",
              "      <th>bedrooms</th>\n",
              "      <td>0.321286</td>\n",
              "      <td>1.000000</td>\n",
              "      <td>0.510727</td>\n",
              "      <td>0.608286</td>\n",
              "      <td>0.090847</td>\n",
              "      <td>0.167300</td>\n",
              "      <td>NaN</td>\n",
              "      <td>0.064322</td>\n",
              "      <td>0.027448</td>\n",
              "      <td>0.355461</td>\n",
              "      <td>0.493195</td>\n",
              "      <td>0.286285</td>\n",
              "      <td>0.180255</td>\n",
              "      <td>NaN</td>\n",
              "      <td>-0.172308</td>\n",
              "      <td>-0.028594</td>\n",
              "      <td>0.161829</td>\n",
              "      <td>0.411443</td>\n",
              "      <td>0.093223</td>\n",
              "    </tr>\n",
              "    <tr>\n",
              "      <th>bathrooms</th>\n",
              "      <td>0.481714</td>\n",
              "      <td>0.510727</td>\n",
              "      <td>1.000000</td>\n",
              "      <td>0.730185</td>\n",
              "      <td>0.072335</td>\n",
              "      <td>0.512301</td>\n",
              "      <td>NaN</td>\n",
              "      <td>0.122469</td>\n",
              "      <td>-0.135104</td>\n",
              "      <td>0.639737</td>\n",
              "      <td>0.656148</td>\n",
              "      <td>0.225857</td>\n",
              "      <td>0.572693</td>\n",
              "      <td>NaN</td>\n",
              "      <td>-0.224431</td>\n",
              "      <td>0.007217</td>\n",
              "      <td>0.260446</td>\n",
              "      <td>0.556321</td>\n",
              "      <td>0.079813</td>\n",
              "    </tr>\n",
              "    <tr>\n",
              "      <th>sqft_living</th>\n",
              "      <td>0.660276</td>\n",
              "      <td>0.608286</td>\n",
              "      <td>0.730185</td>\n",
              "      <td>1.000000</td>\n",
              "      <td>0.226017</td>\n",
              "      <td>0.357483</td>\n",
              "      <td>NaN</td>\n",
              "      <td>0.203955</td>\n",
              "      <td>-0.066148</td>\n",
              "      <td>0.740311</td>\n",
              "      <td>0.863266</td>\n",
              "      <td>0.374239</td>\n",
              "      <td>0.367693</td>\n",
              "      <td>NaN</td>\n",
              "      <td>-0.219105</td>\n",
              "      <td>0.039630</td>\n",
              "      <td>0.280128</td>\n",
              "      <td>0.763875</td>\n",
              "      <td>0.230192</td>\n",
              "    </tr>\n",
              "    <tr>\n",
              "      <th>sqft_lot</th>\n",
              "      <td>0.105647</td>\n",
              "      <td>0.090847</td>\n",
              "      <td>0.072335</td>\n",
              "      <td>0.226017</td>\n",
              "      <td>1.000000</td>\n",
              "      <td>-0.078770</td>\n",
              "      <td>NaN</td>\n",
              "      <td>0.044459</td>\n",
              "      <td>0.024536</td>\n",
              "      <td>0.145014</td>\n",
              "      <td>0.219297</td>\n",
              "      <td>0.040153</td>\n",
              "      <td>0.036384</td>\n",
              "      <td>NaN</td>\n",
              "      <td>-0.179602</td>\n",
              "      <td>-0.069257</td>\n",
              "      <td>0.279318</td>\n",
              "      <td>0.251142</td>\n",
              "      <td>0.792672</td>\n",
              "    </tr>\n",
              "    <tr>\n",
              "      <th>floors</th>\n",
              "      <td>0.279860</td>\n",
              "      <td>0.167300</td>\n",
              "      <td>0.512301</td>\n",
              "      <td>0.357483</td>\n",
              "      <td>-0.078770</td>\n",
              "      <td>1.000000</td>\n",
              "      <td>NaN</td>\n",
              "      <td>-0.001011</td>\n",
              "      <td>-0.280868</td>\n",
              "      <td>0.467558</td>\n",
              "      <td>0.537070</td>\n",
              "      <td>-0.285958</td>\n",
              "      <td>0.532429</td>\n",
              "      <td>NaN</td>\n",
              "      <td>-0.068870</td>\n",
              "      <td>0.043249</td>\n",
              "      <td>0.140276</td>\n",
              "      <td>0.283205</td>\n",
              "      <td>-0.079748</td>\n",
              "    </tr>\n",
              "    <tr>\n",
              "      <th>waterfront</th>\n",
              "      <td>NaN</td>\n",
              "      <td>NaN</td>\n",
              "      <td>NaN</td>\n",
              "      <td>NaN</td>\n",
              "      <td>NaN</td>\n",
              "      <td>NaN</td>\n",
              "      <td>NaN</td>\n",
              "      <td>NaN</td>\n",
              "      <td>NaN</td>\n",
              "      <td>NaN</td>\n",
              "      <td>NaN</td>\n",
              "      <td>NaN</td>\n",
              "      <td>NaN</td>\n",
              "      <td>NaN</td>\n",
              "      <td>NaN</td>\n",
              "      <td>NaN</td>\n",
              "      <td>NaN</td>\n",
              "      <td>NaN</td>\n",
              "      <td>NaN</td>\n",
              "    </tr>\n",
              "    <tr>\n",
              "      <th>view</th>\n",
              "      <td>0.269650</td>\n",
              "      <td>0.064322</td>\n",
              "      <td>0.122469</td>\n",
              "      <td>0.203955</td>\n",
              "      <td>0.044459</td>\n",
              "      <td>-0.001011</td>\n",
              "      <td>NaN</td>\n",
              "      <td>1.000000</td>\n",
              "      <td>0.035877</td>\n",
              "      <td>0.179625</td>\n",
              "      <td>0.095178</td>\n",
              "      <td>0.224939</td>\n",
              "      <td>-0.047142</td>\n",
              "      <td>NaN</td>\n",
              "      <td>0.087257</td>\n",
              "      <td>0.006220</td>\n",
              "      <td>-0.075801</td>\n",
              "      <td>0.216358</td>\n",
              "      <td>0.034759</td>\n",
              "    </tr>\n",
              "    <tr>\n",
              "      <th>condition</th>\n",
              "      <td>0.048557</td>\n",
              "      <td>0.027448</td>\n",
              "      <td>-0.135104</td>\n",
              "      <td>-0.066148</td>\n",
              "      <td>0.024536</td>\n",
              "      <td>-0.280868</td>\n",
              "      <td>NaN</td>\n",
              "      <td>0.035877</td>\n",
              "      <td>1.000000</td>\n",
              "      <td>-0.162404</td>\n",
              "      <td>-0.176069</td>\n",
              "      <td>0.193811</td>\n",
              "      <td>-0.391591</td>\n",
              "      <td>NaN</td>\n",
              "      <td>0.004355</td>\n",
              "      <td>-0.006739</td>\n",
              "      <td>-0.109646</td>\n",
              "      <td>-0.109399</td>\n",
              "      <td>0.035010</td>\n",
              "    </tr>\n",
              "    <tr>\n",
              "      <th>grade</th>\n",
              "      <td>0.667969</td>\n",
              "      <td>0.355461</td>\n",
              "      <td>0.639737</td>\n",
              "      <td>0.740311</td>\n",
              "      <td>0.145014</td>\n",
              "      <td>0.467558</td>\n",
              "      <td>NaN</td>\n",
              "      <td>0.179625</td>\n",
              "      <td>-0.162404</td>\n",
              "      <td>1.000000</td>\n",
              "      <td>0.737947</td>\n",
              "      <td>0.095424</td>\n",
              "      <td>0.488096</td>\n",
              "      <td>NaN</td>\n",
              "      <td>-0.196849</td>\n",
              "      <td>0.109172</td>\n",
              "      <td>0.223164</td>\n",
              "      <td>0.698923</td>\n",
              "      <td>0.159238</td>\n",
              "    </tr>\n",
              "    <tr>\n",
              "      <th>sqft_above</th>\n",
              "      <td>0.570948</td>\n",
              "      <td>0.493195</td>\n",
              "      <td>0.656148</td>\n",
              "      <td>0.863266</td>\n",
              "      <td>0.219297</td>\n",
              "      <td>0.537070</td>\n",
              "      <td>NaN</td>\n",
              "      <td>0.095178</td>\n",
              "      <td>-0.176069</td>\n",
              "      <td>0.737947</td>\n",
              "      <td>1.000000</td>\n",
              "      <td>-0.145001</td>\n",
              "      <td>0.470749</td>\n",
              "      <td>NaN</td>\n",
              "      <td>-0.282117</td>\n",
              "      <td>-0.015476</td>\n",
              "      <td>0.384845</td>\n",
              "      <td>0.738058</td>\n",
              "      <td>0.225510</td>\n",
              "    </tr>\n",
              "    <tr>\n",
              "      <th>sqft_basement</th>\n",
              "      <td>0.245349</td>\n",
              "      <td>0.286285</td>\n",
              "      <td>0.225857</td>\n",
              "      <td>0.374239</td>\n",
              "      <td>0.040153</td>\n",
              "      <td>-0.285958</td>\n",
              "      <td>NaN</td>\n",
              "      <td>0.224939</td>\n",
              "      <td>0.193811</td>\n",
              "      <td>0.095424</td>\n",
              "      <td>-0.145001</td>\n",
              "      <td>1.000000</td>\n",
              "      <td>-0.144100</td>\n",
              "      <td>NaN</td>\n",
              "      <td>0.088809</td>\n",
              "      <td>0.106117</td>\n",
              "      <td>-0.157924</td>\n",
              "      <td>0.141412</td>\n",
              "      <td>0.036922</td>\n",
              "    </tr>\n",
              "    <tr>\n",
              "      <th>yr_built</th>\n",
              "      <td>0.082016</td>\n",
              "      <td>0.180255</td>\n",
              "      <td>0.572693</td>\n",
              "      <td>0.367693</td>\n",
              "      <td>0.036384</td>\n",
              "      <td>0.532429</td>\n",
              "      <td>NaN</td>\n",
              "      <td>-0.047142</td>\n",
              "      <td>-0.391591</td>\n",
              "      <td>0.488096</td>\n",
              "      <td>0.470749</td>\n",
              "      <td>-0.144100</td>\n",
              "      <td>1.000000</td>\n",
              "      <td>NaN</td>\n",
              "      <td>-0.342559</td>\n",
              "      <td>-0.151354</td>\n",
              "      <td>0.416423</td>\n",
              "      <td>0.348849</td>\n",
              "      <td>0.058513</td>\n",
              "    </tr>\n",
              "    <tr>\n",
              "      <th>yr_renovated</th>\n",
              "      <td>NaN</td>\n",
              "      <td>NaN</td>\n",
              "      <td>NaN</td>\n",
              "      <td>NaN</td>\n",
              "      <td>NaN</td>\n",
              "      <td>NaN</td>\n",
              "      <td>NaN</td>\n",
              "      <td>NaN</td>\n",
              "      <td>NaN</td>\n",
              "      <td>NaN</td>\n",
              "      <td>NaN</td>\n",
              "      <td>NaN</td>\n",
              "      <td>NaN</td>\n",
              "      <td>NaN</td>\n",
              "      <td>NaN</td>\n",
              "      <td>NaN</td>\n",
              "      <td>NaN</td>\n",
              "      <td>NaN</td>\n",
              "      <td>NaN</td>\n",
              "    </tr>\n",
              "    <tr>\n",
              "      <th>zipcode</th>\n",
              "      <td>-0.051302</td>\n",
              "      <td>-0.172308</td>\n",
              "      <td>-0.224431</td>\n",
              "      <td>-0.219105</td>\n",
              "      <td>-0.179602</td>\n",
              "      <td>-0.068870</td>\n",
              "      <td>NaN</td>\n",
              "      <td>0.087257</td>\n",
              "      <td>0.004355</td>\n",
              "      <td>-0.196849</td>\n",
              "      <td>-0.282117</td>\n",
              "      <td>0.088809</td>\n",
              "      <td>-0.342559</td>\n",
              "      <td>NaN</td>\n",
              "      <td>1.000000</td>\n",
              "      <td>0.273972</td>\n",
              "      <td>-0.561637</td>\n",
              "      <td>-0.292077</td>\n",
              "      <td>-0.191515</td>\n",
              "    </tr>\n",
              "    <tr>\n",
              "      <th>lat</th>\n",
              "      <td>0.392863</td>\n",
              "      <td>-0.028594</td>\n",
              "      <td>0.007217</td>\n",
              "      <td>0.039630</td>\n",
              "      <td>-0.069257</td>\n",
              "      <td>0.043249</td>\n",
              "      <td>NaN</td>\n",
              "      <td>0.006220</td>\n",
              "      <td>-0.006739</td>\n",
              "      <td>0.109172</td>\n",
              "      <td>-0.015476</td>\n",
              "      <td>0.106117</td>\n",
              "      <td>-0.151354</td>\n",
              "      <td>NaN</td>\n",
              "      <td>0.273972</td>\n",
              "      <td>1.000000</td>\n",
              "      <td>-0.137340</td>\n",
              "      <td>0.037176</td>\n",
              "      <td>-0.071066</td>\n",
              "    </tr>\n",
              "    <tr>\n",
              "      <th>long</th>\n",
              "      <td>0.052420</td>\n",
              "      <td>0.161829</td>\n",
              "      <td>0.260446</td>\n",
              "      <td>0.280128</td>\n",
              "      <td>0.279318</td>\n",
              "      <td>0.140276</td>\n",
              "      <td>NaN</td>\n",
              "      <td>-0.075801</td>\n",
              "      <td>-0.109646</td>\n",
              "      <td>0.223164</td>\n",
              "      <td>0.384845</td>\n",
              "      <td>-0.157924</td>\n",
              "      <td>0.416423</td>\n",
              "      <td>NaN</td>\n",
              "      <td>-0.561637</td>\n",
              "      <td>-0.137340</td>\n",
              "      <td>1.000000</td>\n",
              "      <td>0.370133</td>\n",
              "      <td>0.312467</td>\n",
              "    </tr>\n",
              "    <tr>\n",
              "      <th>sqft_living15</th>\n",
              "      <td>0.585281</td>\n",
              "      <td>0.411443</td>\n",
              "      <td>0.556321</td>\n",
              "      <td>0.763875</td>\n",
              "      <td>0.251142</td>\n",
              "      <td>0.283205</td>\n",
              "      <td>NaN</td>\n",
              "      <td>0.216358</td>\n",
              "      <td>-0.109399</td>\n",
              "      <td>0.698923</td>\n",
              "      <td>0.738058</td>\n",
              "      <td>0.141412</td>\n",
              "      <td>0.348849</td>\n",
              "      <td>NaN</td>\n",
              "      <td>-0.292077</td>\n",
              "      <td>0.037176</td>\n",
              "      <td>0.370133</td>\n",
              "      <td>1.000000</td>\n",
              "      <td>0.280872</td>\n",
              "    </tr>\n",
              "    <tr>\n",
              "      <th>sqft_lot15</th>\n",
              "      <td>0.098728</td>\n",
              "      <td>0.093223</td>\n",
              "      <td>0.079813</td>\n",
              "      <td>0.230192</td>\n",
              "      <td>0.792672</td>\n",
              "      <td>-0.079748</td>\n",
              "      <td>NaN</td>\n",
              "      <td>0.034759</td>\n",
              "      <td>0.035010</td>\n",
              "      <td>0.159238</td>\n",
              "      <td>0.225510</td>\n",
              "      <td>0.036922</td>\n",
              "      <td>0.058513</td>\n",
              "      <td>NaN</td>\n",
              "      <td>-0.191515</td>\n",
              "      <td>-0.071066</td>\n",
              "      <td>0.312467</td>\n",
              "      <td>0.280872</td>\n",
              "      <td>1.000000</td>\n",
              "    </tr>\n",
              "  </tbody>\n",
              "</table>\n",
              "</div>\n",
              "      <button class=\"colab-df-convert\" onclick=\"convertToInteractive('df-6beeb9a6-fcf5-4768-b5e3-845c8c69a958')\"\n",
              "              title=\"Convert this dataframe to an interactive table.\"\n",
              "              style=\"display:none;\">\n",
              "        \n",
              "  <svg xmlns=\"http://www.w3.org/2000/svg\" height=\"24px\"viewBox=\"0 0 24 24\"\n",
              "       width=\"24px\">\n",
              "    <path d=\"M0 0h24v24H0V0z\" fill=\"none\"/>\n",
              "    <path d=\"M18.56 5.44l.94 2.06.94-2.06 2.06-.94-2.06-.94-.94-2.06-.94 2.06-2.06.94zm-11 1L8.5 8.5l.94-2.06 2.06-.94-2.06-.94L8.5 2.5l-.94 2.06-2.06.94zm10 10l.94 2.06.94-2.06 2.06-.94-2.06-.94-.94-2.06-.94 2.06-2.06.94z\"/><path d=\"M17.41 7.96l-1.37-1.37c-.4-.4-.92-.59-1.43-.59-.52 0-1.04.2-1.43.59L10.3 9.45l-7.72 7.72c-.78.78-.78 2.05 0 2.83L4 21.41c.39.39.9.59 1.41.59.51 0 1.02-.2 1.41-.59l7.78-7.78 2.81-2.81c.8-.78.8-2.07 0-2.86zM5.41 20L4 18.59l7.72-7.72 1.47 1.35L5.41 20z\"/>\n",
              "  </svg>\n",
              "      </button>\n",
              "      \n",
              "  <style>\n",
              "    .colab-df-container {\n",
              "      display:flex;\n",
              "      flex-wrap:wrap;\n",
              "      gap: 12px;\n",
              "    }\n",
              "\n",
              "    .colab-df-convert {\n",
              "      background-color: #E8F0FE;\n",
              "      border: none;\n",
              "      border-radius: 50%;\n",
              "      cursor: pointer;\n",
              "      display: none;\n",
              "      fill: #1967D2;\n",
              "      height: 32px;\n",
              "      padding: 0 0 0 0;\n",
              "      width: 32px;\n",
              "    }\n",
              "\n",
              "    .colab-df-convert:hover {\n",
              "      background-color: #E2EBFA;\n",
              "      box-shadow: 0px 1px 2px rgba(60, 64, 67, 0.3), 0px 1px 3px 1px rgba(60, 64, 67, 0.15);\n",
              "      fill: #174EA6;\n",
              "    }\n",
              "\n",
              "    [theme=dark] .colab-df-convert {\n",
              "      background-color: #3B4455;\n",
              "      fill: #D2E3FC;\n",
              "    }\n",
              "\n",
              "    [theme=dark] .colab-df-convert:hover {\n",
              "      background-color: #434B5C;\n",
              "      box-shadow: 0px 1px 3px 1px rgba(0, 0, 0, 0.15);\n",
              "      filter: drop-shadow(0px 1px 2px rgba(0, 0, 0, 0.3));\n",
              "      fill: #FFFFFF;\n",
              "    }\n",
              "  </style>\n",
              "\n",
              "      <script>\n",
              "        const buttonEl =\n",
              "          document.querySelector('#df-6beeb9a6-fcf5-4768-b5e3-845c8c69a958 button.colab-df-convert');\n",
              "        buttonEl.style.display =\n",
              "          google.colab.kernel.accessAllowed ? 'block' : 'none';\n",
              "\n",
              "        async function convertToInteractive(key) {\n",
              "          const element = document.querySelector('#df-6beeb9a6-fcf5-4768-b5e3-845c8c69a958');\n",
              "          const dataTable =\n",
              "            await google.colab.kernel.invokeFunction('convertToInteractive',\n",
              "                                                     [key], {});\n",
              "          if (!dataTable) return;\n",
              "\n",
              "          const docLinkHtml = 'Like what you see? Visit the ' +\n",
              "            '<a target=\"_blank\" href=https://colab.research.google.com/notebooks/data_table.ipynb>data table notebook</a>'\n",
              "            + ' to learn more about interactive tables.';\n",
              "          element.innerHTML = '';\n",
              "          dataTable['output_type'] = 'display_data';\n",
              "          await google.colab.output.renderOutput(dataTable, element);\n",
              "          const docLink = document.createElement('div');\n",
              "          docLink.innerHTML = docLinkHtml;\n",
              "          element.appendChild(docLink);\n",
              "        }\n",
              "      </script>\n",
              "    </div>\n",
              "  </div>\n",
              "  "
            ]
          },
          "metadata": {},
          "execution_count": 17
        }
      ]
    },
    {
      "cell_type": "code",
      "source": [
        "plt.figure(figsize = (20,15))\n",
        "sns.heatmap(house_df.corr(), annot = True, cmap = 'RdPu')"
      ],
      "metadata": {
        "colab": {
          "base_uri": "https://localhost:8080/",
          "height": 775
        },
        "id": "0YZWOsaepbdk",
        "outputId": "72df40e5-54eb-4da7-a136-e875ec8ef3ee"
      },
      "execution_count": null,
      "outputs": [
        {
          "output_type": "execute_result",
          "data": {
            "text/plain": [
              "<matplotlib.axes._subplots.AxesSubplot at 0x7fd68281dd00>"
            ]
          },
          "metadata": {},
          "execution_count": 18
        },
        {
          "output_type": "display_data",
          "data": {
            "text/plain": [
              "<Figure size 1440x1080 with 2 Axes>"
            ],
            "image/png": "[encoded data removed]"
          },
          "metadata": {
            "needs_background": "light"
          }
        }
      ]
    },
    {
      "cell_type": "code",
      "source": [
        "plt.figure(figsize = (3,11))\n",
        "sns.heatmap(house_df.corr()[['price']], annot = True, cmap = 'RdPu')"
      ],
      "metadata": {
        "colab": {
          "base_uri": "https://localhost:8080/",
          "height": 664
        },
        "id": "dCP0HRbkpuzy",
        "outputId": "b0e95b9c-e66b-4464-f2b2-11aa4466ba34"
      },
      "execution_count": null,
      "outputs": [
        {
          "output_type": "execute_result",
          "data": {
            "text/plain": [
              "<matplotlib.axes._subplots.AxesSubplot at 0x7fd681ec6b80>"
            ]
          },
          "metadata": {},
          "execution_count": 19
        },
        {
          "output_type": "display_data",
          "data": {
            "text/plain": [
              "<Figure size 216x792 with 2 Axes>"
            ],
            "image/png": "[encoded data removed]"
          },
          "metadata": {
            "needs_background": "light"
          }
        }
      ]
    },
    {
      "cell_type": "code",
      "source": [
        "house_df['waterfront'].min()"
      ],
      "metadata": {
        "colab": {
          "base_uri": "https://localhost:8080/"
        },
        "id": "uWnx80ynqPp6",
        "outputId": "4cf96f78-1bcc-4b75-ecd4-64cbca2a636a"
      },
      "execution_count": null,
      "outputs": [
        {
          "output_type": "execute_result",
          "data": {
            "text/plain": [
              "0"
            ]
          },
          "metadata": {},
          "execution_count": 20
        }
      ]
    },
    {
      "cell_type": "markdown",
      "source": [
        "#### Split X & Y"
      ],
      "metadata": {
        "id": "LBMryMwKsYAY"
      }
    },
    {
      "cell_type": "code",
      "source": [
        "house_df.columns"
      ],
      "metadata": {
        "colab": {
          "base_uri": "https://localhost:8080/"
        },
        "id": "23HWYNE3sk9d",
        "outputId": "3b5a8248-91bc-4169-dd76-2e96f446151f"
      },
      "execution_count": null,
      "outputs": [
        {
          "output_type": "execute_result",
          "data": {
            "text/plain": [
              "Index(['price', 'bedrooms', 'bathrooms', 'sqft_living', 'sqft_lot', 'floors',\n",
              "       'waterfront', 'view', 'condition', 'grade', 'sqft_above',\n",
              "       'sqft_basement', 'yr_built', 'yr_renovated', 'zipcode', 'lat', 'long',\n",
              "       'sqft_living15', 'sqft_lot15'],\n",
              "      dtype='object')"
            ]
          },
          "metadata": {},
          "execution_count": 21
        }
      ]
    },
    {
      "cell_type": "code",
      "source": [
        "X = house_df.drop(['price','sqft_above','waterfront','condition','yr_renovated','long','sqft_lot15','zipcode'], axis = 1)\n",
        "Y = house_df['price']"
      ],
      "metadata": {
        "id": "Xh1PYFuIsJiY"
      },
      "execution_count": null,
      "outputs": []
    },
    {
      "cell_type": "code",
      "source": [
        "X"
      ],
      "metadata": {
        "colab": {
          "base_uri": "https://localhost:8080/",
          "height": 487
        },
        "id": "lWKnmWsZtK4o",
        "outputId": "d56a8f64-8850-48a4-c719-0c826ea36e85"
      },
      "execution_count": null,
      "outputs": [
        {
          "output_type": "execute_result",
          "data": {
            "text/plain": [
              "       bedrooms  bathrooms  sqft_living  sqft_lot  floors  view  grade  \\\n",
              "0             3       1.00         1180      5650     1.0     0      7   \n",
              "2             2       1.00          770     10000     1.0     0      6   \n",
              "3             4       3.00         1960      5000     1.0     0      7   \n",
              "4             3       2.00         1680      8080     1.0     0      8   \n",
              "6             3       2.25         1715      6819     2.0     0      7   \n",
              "...         ...        ...          ...       ...     ...   ...    ...   \n",
              "21608         3       2.50         1530      1131     3.0     0      8   \n",
              "21609         4       2.50         2310      5813     2.0     0      8   \n",
              "21610         2       0.75         1020      1350     2.0     0      7   \n",
              "21611         3       2.50         1600      2388     2.0     0      8   \n",
              "21612         2       0.75         1020      1076     2.0     0      7   \n",
              "\n",
              "       sqft_basement  yr_built      lat  sqft_living15  \n",
              "0                  0      1955  47.5112           1340  \n",
              "2                  0      1933  47.7379           2720  \n",
              "3                910      1965  47.5208           1360  \n",
              "4                  0      1987  47.6168           1800  \n",
              "6                  0      1995  47.3097           2238  \n",
              "...              ...       ...      ...            ...  \n",
              "21608              0      2009  47.6993           1530  \n",
              "21609              0      2014  47.5107           1830  \n",
              "21610              0      2009  47.5944           1020  \n",
              "21611              0      2004  47.5345           1410  \n",
              "21612              0      2008  47.5941           1020  \n",
              "\n",
              "[19811 rows x 11 columns]"
            ],
            "text/html": [
              "\n",
              "  <div id=\"df-82534386-0c57-45bb-8b9e-63dc779cc00f\">\n",
              "    <div class=\"colab-df-container\">\n",
              "      <div>\n",
              "<style scoped>\n",
              "    .dataframe tbody tr th:only-of-type {\n",
              "        vertical-align: middle;\n",
              "    }\n",
              "\n",
              "    .dataframe tbody tr th {\n",
              "        vertical-align: top;\n",
              "    }\n",
              "\n",
              "    .dataframe thead th {\n",
              "        text-align: right;\n",
              "    }\n",
              "</style>\n",
              "<table border=\"1\" class=\"dataframe\">\n",
              "  <thead>\n",
              "    <tr style=\"text-align: right;\">\n",
              "      <th></th>\n",
              "      <th>bedrooms</th>\n",
              "      <th>bathrooms</th>\n",
              "      <th>sqft_living</th>\n",
              "      <th>sqft_lot</th>\n",
              "      <th>floors</th>\n",
              "      <th>view</th>\n",
              "      <th>grade</th>\n",
              "      <th>sqft_basement</th>\n",
              "      <th>yr_built</th>\n",
              "      <th>lat</th>\n",
              "      <th>sqft_living15</th>\n",
              "    </tr>\n",
              "  </thead>\n",
              "  <tbody>\n",
              "    <tr>\n",
              "      <th>0</th>\n",
              "      <td>3</td>\n",
              "      <td>1.00</td>\n",
              "      <td>1180</td>\n",
              "      <td>5650</td>\n",
              "      <td>1.0</td>\n",
              "      <td>0</td>\n",
              "      <td>7</td>\n",
              "      <td>0</td>\n",
              "      <td>1955</td>\n",
              "      <td>47.5112</td>\n",
              "      <td>1340</td>\n",
              "    </tr>\n",
              "    <tr>\n",
              "      <th>2</th>\n",
              "      <td>2</td>\n",
              "      <td>1.00</td>\n",
              "      <td>770</td>\n",
              "      <td>10000</td>\n",
              "      <td>1.0</td>\n",
              "      <td>0</td>\n",
              "      <td>6</td>\n",
              "      <td>0</td>\n",
              "      <td>1933</td>\n",
              "      <td>47.7379</td>\n",
              "      <td>2720</td>\n",
              "    </tr>\n",
              "    <tr>\n",
              "      <th>3</th>\n",
              "      <td>4</td>\n",
              "      <td>3.00</td>\n",
              "      <td>1960</td>\n",
              "      <td>5000</td>\n",
              "      <td>1.0</td>\n",
              "      <td>0</td>\n",
              "      <td>7</td>\n",
              "      <td>910</td>\n",
              "      <td>1965</td>\n",
              "      <td>47.5208</td>\n",
              "      <td>1360</td>\n",
              "    </tr>\n",
              "    <tr>\n",
              "      <th>4</th>\n",
              "      <td>3</td>\n",
              "      <td>2.00</td>\n",
              "      <td>1680</td>\n",
              "      <td>8080</td>\n",
              "      <td>1.0</td>\n",
              "      <td>0</td>\n",
              "      <td>8</td>\n",
              "      <td>0</td>\n",
              "      <td>1987</td>\n",
              "      <td>47.6168</td>\n",
              "      <td>1800</td>\n",
              "    </tr>\n",
              "    <tr>\n",
              "      <th>6</th>\n",
              "      <td>3</td>\n",
              "      <td>2.25</td>\n",
              "      <td>1715</td>\n",
              "      <td>6819</td>\n",
              "      <td>2.0</td>\n",
              "      <td>0</td>\n",
              "      <td>7</td>\n",
              "      <td>0</td>\n",
              "      <td>1995</td>\n",
              "      <td>47.3097</td>\n",
              "      <td>2238</td>\n",
              "    </tr>\n",
              "    <tr>\n",
              "      <th>...</th>\n",
              "      <td>...</td>\n",
              "      <td>...</td>\n",
              "      <td>...</td>\n",
              "      <td>...</td>\n",
              "      <td>...</td>\n",
              "      <td>...</td>\n",
              "      <td>...</td>\n",
              "      <td>...</td>\n",
              "      <td>...</td>\n",
              "      <td>...</td>\n",
              "      <td>...</td>\n",
              "    </tr>\n",
              "    <tr>\n",
              "      <th>21608</th>\n",
              "      <td>3</td>\n",
              "      <td>2.50</td>\n",
              "      <td>1530</td>\n",
              "      <td>1131</td>\n",
              "      <td>3.0</td>\n",
              "      <td>0</td>\n",
              "      <td>8</td>\n",
              "      <td>0</td>\n",
              "      <td>2009</td>\n",
              "      <td>47.6993</td>\n",
              "      <td>1530</td>\n",
              "    </tr>\n",
              "    <tr>\n",
              "      <th>21609</th>\n",
              "      <td>4</td>\n",
              "      <td>2.50</td>\n",
              "      <td>2310</td>\n",
              "      <td>5813</td>\n",
              "      <td>2.0</td>\n",
              "      <td>0</td>\n",
              "      <td>8</td>\n",
              "      <td>0</td>\n",
              "      <td>2014</td>\n",
              "      <td>47.5107</td>\n",
              "      <td>1830</td>\n",
              "    </tr>\n",
              "    <tr>\n",
              "      <th>21610</th>\n",
              "      <td>2</td>\n",
              "      <td>0.75</td>\n",
              "      <td>1020</td>\n",
              "      <td>1350</td>\n",
              "      <td>2.0</td>\n",
              "      <td>0</td>\n",
              "      <td>7</td>\n",
              "      <td>0</td>\n",
              "      <td>2009</td>\n",
              "      <td>47.5944</td>\n",
              "      <td>1020</td>\n",
              "    </tr>\n",
              "    <tr>\n",
              "      <th>21611</th>\n",
              "      <td>3</td>\n",
              "      <td>2.50</td>\n",
              "      <td>1600</td>\n",
              "      <td>2388</td>\n",
              "      <td>2.0</td>\n",
              "      <td>0</td>\n",
              "      <td>8</td>\n",
              "      <td>0</td>\n",
              "      <td>2004</td>\n",
              "      <td>47.5345</td>\n",
              "      <td>1410</td>\n",
              "    </tr>\n",
              "    <tr>\n",
              "      <th>21612</th>\n",
              "      <td>2</td>\n",
              "      <td>0.75</td>\n",
              "      <td>1020</td>\n",
              "      <td>1076</td>\n",
              "      <td>2.0</td>\n",
              "      <td>0</td>\n",
              "      <td>7</td>\n",
              "      <td>0</td>\n",
              "      <td>2008</td>\n",
              "      <td>47.5941</td>\n",
              "      <td>1020</td>\n",
              "    </tr>\n",
              "  </tbody>\n",
              "</table>\n",
              "<p>19811 rows × 11 columns</p>\n",
              "</div>\n",
              "      <button class=\"colab-df-convert\" onclick=\"convertToInteractive('df-82534386-0c57-45bb-8b9e-63dc779cc00f')\"\n",
              "              title=\"Convert this dataframe to an interactive table.\"\n",
              "              style=\"display:none;\">\n",
              "        \n",
              "  <svg xmlns=\"http://www.w3.org/2000/svg\" height=\"24px\"viewBox=\"0 0 24 24\"\n",
              "       width=\"24px\">\n",
              "    <path d=\"M0 0h24v24H0V0z\" fill=\"none\"/>\n",
              "    <path d=\"M18.56 5.44l.94 2.06.94-2.06 2.06-.94-2.06-.94-.94-2.06-.94 2.06-2.06.94zm-11 1L8.5 8.5l.94-2.06 2.06-.94-2.06-.94L8.5 2.5l-.94 2.06-2.06.94zm10 10l.94 2.06.94-2.06 2.06-.94-2.06-.94-.94-2.06-.94 2.06-2.06.94z\"/><path d=\"M17.41 7.96l-1.37-1.37c-.4-.4-.92-.59-1.43-.59-.52 0-1.04.2-1.43.59L10.3 9.45l-7.72 7.72c-.78.78-.78 2.05 0 2.83L4 21.41c.39.39.9.59 1.41.59.51 0 1.02-.2 1.41-.59l7.78-7.78 2.81-2.81c.8-.78.8-2.07 0-2.86zM5.41 20L4 18.59l7.72-7.72 1.47 1.35L5.41 20z\"/>\n",
              "  </svg>\n",
              "      </button>\n",
              "      \n",
              "  <style>\n",
              "    .colab-df-container {\n",
              "      display:flex;\n",
              "      flex-wrap:wrap;\n",
              "      gap: 12px;\n",
              "    }\n",
              "\n",
              "    .colab-df-convert {\n",
              "      background-color: #E8F0FE;\n",
              "      border: none;\n",
              "      border-radius: 50%;\n",
              "      cursor: pointer;\n",
              "      display: none;\n",
              "      fill: #1967D2;\n",
              "      height: 32px;\n",
              "      padding: 0 0 0 0;\n",
              "      width: 32px;\n",
              "    }\n",
              "\n",
              "    .colab-df-convert:hover {\n",
              "      background-color: #E2EBFA;\n",
              "      box-shadow: 0px 1px 2px rgba(60, 64, 67, 0.3), 0px 1px 3px 1px rgba(60, 64, 67, 0.15);\n",
              "      fill: #174EA6;\n",
              "    }\n",
              "\n",
              "    [theme=dark] .colab-df-convert {\n",
              "      background-color: #3B4455;\n",
              "      fill: #D2E3FC;\n",
              "    }\n",
              "\n",
              "    [theme=dark] .colab-df-convert:hover {\n",
              "      background-color: #434B5C;\n",
              "      box-shadow: 0px 1px 3px 1px rgba(0, 0, 0, 0.15);\n",
              "      filter: drop-shadow(0px 1px 2px rgba(0, 0, 0, 0.3));\n",
              "      fill: #FFFFFF;\n",
              "    }\n",
              "  </style>\n",
              "\n",
              "      <script>\n",
              "        const buttonEl =\n",
              "          document.querySelector('#df-82534386-0c57-45bb-8b9e-63dc779cc00f button.colab-df-convert');\n",
              "        buttonEl.style.display =\n",
              "          google.colab.kernel.accessAllowed ? 'block' : 'none';\n",
              "\n",
              "        async function convertToInteractive(key) {\n",
              "          const element = document.querySelector('#df-82534386-0c57-45bb-8b9e-63dc779cc00f');\n",
              "          const dataTable =\n",
              "            await google.colab.kernel.invokeFunction('convertToInteractive',\n",
              "                                                     [key], {});\n",
              "          if (!dataTable) return;\n",
              "\n",
              "          const docLinkHtml = 'Like what you see? Visit the ' +\n",
              "            '<a target=\"_blank\" href=https://colab.research.google.com/notebooks/data_table.ipynb>data table notebook</a>'\n",
              "            + ' to learn more about interactive tables.';\n",
              "          element.innerHTML = '';\n",
              "          dataTable['output_type'] = 'display_data';\n",
              "          await google.colab.output.renderOutput(dataTable, element);\n",
              "          const docLink = document.createElement('div');\n",
              "          docLink.innerHTML = docLinkHtml;\n",
              "          element.appendChild(docLink);\n",
              "        }\n",
              "      </script>\n",
              "    </div>\n",
              "  </div>\n",
              "  "
            ]
          },
          "metadata": {},
          "execution_count": 23
        }
      ]
    },
    {
      "cell_type": "markdown",
      "source": [
        "##### Data Pre-Processing\n",
        "    * Data Scaling"
      ],
      "metadata": {
        "id": "CjLuqqFauh1j"
      }
    },
    {
      "cell_type": "code",
      "source": [
        "from sklearn.preprocessing import MinMaxScaler\n",
        "scaler = MinMaxScaler(feature_range = (0,1))"
      ],
      "metadata": {
        "id": "QSrMUJEUtRhk"
      },
      "execution_count": null,
      "outputs": []
    },
    {
      "cell_type": "code",
      "source": [
        "# training\n",
        "scaler.fit(X)"
      ],
      "metadata": {
        "colab": {
          "base_uri": "https://localhost:8080/"
        },
        "id": "YY1_hDh5vNiB",
        "outputId": "011ad27e-b590-4bf3-e3b1-5f7aab1f0343"
      },
      "execution_count": null,
      "outputs": [
        {
          "output_type": "execute_result",
          "data": {
            "text/plain": [
              "MinMaxScaler()"
            ]
          },
          "metadata": {},
          "execution_count": 25
        }
      ]
    },
    {
      "cell_type": "code",
      "source": [
        "scaled_X = scaler.transform(X)"
      ],
      "metadata": {
        "id": "D09r3H-ivQVZ"
      },
      "execution_count": null,
      "outputs": []
    },
    {
      "cell_type": "code",
      "source": [
        "scaled_X"
      ],
      "metadata": {
        "colab": {
          "base_uri": "https://localhost:8080/"
        },
        "id": "cTSLHoMjvWai",
        "outputId": "2a84be61-5027-4950-9067-406262ce551c"
      },
      "execution_count": null,
      "outputs": [
        {
          "output_type": "execute_result",
          "data": {
            "text/plain": [
              "array([[0.42857143, 0.2       , 0.15140187, ..., 0.47826087, 0.55688623,\n",
              "        0.20754717],\n",
              "       [0.28571429, 0.2       , 0.07476636, ..., 0.28695652, 0.9339654 ,\n",
              "        0.53301887],\n",
              "       [0.57142857, 0.6       , 0.29719626, ..., 0.56521739, 0.57285429,\n",
              "        0.21226415],\n",
              "       ...,\n",
              "       [0.28571429, 0.15      , 0.12149533, ..., 0.94782609, 0.69527611,\n",
              "        0.13207547],\n",
              "       [0.42857143, 0.5       , 0.22990654, ..., 0.90434783, 0.59564205,\n",
              "        0.2240566 ],\n",
              "       [0.28571429, 0.15      , 0.12149533, ..., 0.93913043, 0.69477711,\n",
              "        0.13207547]])"
            ]
          },
          "metadata": {},
          "execution_count": 27
        }
      ]
    },
    {
      "cell_type": "markdown",
      "source": [
        "##### Split into Train & Test - Cross Validation"
      ],
      "metadata": {
        "id": "gcL1boIjvpue"
      }
    },
    {
      "cell_type": "code",
      "source": [
        "from sklearn.model_selection import train_test_split\n",
        "# test_size = 0.2 (60-80% - training), (20-40% - Testing)\n",
        "X_train, X_test, Y_train, Y_test = train_test_split(scaled_X, Y, test_size = 0.2, random_state = 0)"
      ],
      "metadata": {
        "id": "b5M5UvvNvX-L"
      },
      "execution_count": null,
      "outputs": []
    },
    {
      "cell_type": "markdown",
      "source": [
        "##### LR Algorithm"
      ],
      "metadata": {
        "id": "nb_aCcwZw78i"
      }
    },
    {
      "cell_type": "code",
      "source": [
        "from sklearn.linear_model import LinearRegression\n",
        "lr_model = LinearRegression(normalize = True)"
      ],
      "metadata": {
        "id": "92W8yFhUw066"
      },
      "execution_count": null,
      "outputs": []
    },
    {
      "cell_type": "code",
      "source": [
        "# training of model using train dataset\n",
        "lr_model.fit(X_train, Y_train)"
      ],
      "metadata": {
        "colab": {
          "base_uri": "https://localhost:8080/"
        },
        "id": "E5uXIrvhxiqJ",
        "outputId": "14388fcc-be24-410b-c31d-87b8d7f1990b"
      },
      "execution_count": null,
      "outputs": [
        {
          "output_type": "stream",
          "name": "stderr",
          "text": [
            "/usr/local/lib/python3.8/dist-packages/sklearn/linear_model/_base.py:141: FutureWarning: 'normalize' was deprecated in version 1.0 and will be removed in 1.2.\n",
            "If you wish to scale the data, use Pipeline with a StandardScaler in a preprocessing stage. To reproduce the previous behavior:\n",
            "\n",
            "from sklearn.pipeline import make_pipeline\n",
            "\n",
            "model = make_pipeline(StandardScaler(with_mean=False), LinearRegression())\n",
            "\n",
            "If you wish to pass a sample_weight parameter, you need to pass it as a fit parameter to each step of the pipeline as follows:\n",
            "\n",
            "kwargs = {s[0] + '__sample_weight': sample_weight for s in model.steps}\n",
            "model.fit(X, y, **kwargs)\n",
            "\n",
            "\n",
            "  warnings.warn(\n"
          ]
        },
        {
          "output_type": "execute_result",
          "data": {
            "text/plain": [
              "LinearRegression(normalize=True)"
            ]
          },
          "metadata": {},
          "execution_count": 80
        }
      ]
    },
    {
      "cell_type": "code",
      "source": [
        "# Score(0 - 1)\n",
        "lr_model.score(X_test, Y_test)"
      ],
      "metadata": {
        "colab": {
          "base_uri": "https://localhost:8080/"
        },
        "id": "dZF1DErhxtHk",
        "outputId": "ff802884-6485-46e9-e0d5-304ecf5a9d57"
      },
      "execution_count": null,
      "outputs": [
        {
          "output_type": "execute_result",
          "data": {
            "text/plain": [
              "0.7045460664781261"
            ]
          },
          "metadata": {},
          "execution_count": 81
        }
      ]
    },
    {
      "cell_type": "markdown",
      "source": [
        "#### Regression Metrics"
      ],
      "metadata": {
        "id": "zTCdBwz2pEIe"
      }
    },
    {
      "cell_type": "code",
      "source": [
        "yhat = lr_model.predict(X_test)"
      ],
      "metadata": {
        "id": "HkYPVKsyx1-a"
      },
      "execution_count": null,
      "outputs": []
    },
    {
      "cell_type": "code",
      "source": [
        "from sklearn.metrics import mean_squared_error, mean_absolute_error, r2_score"
      ],
      "metadata": {
        "id": "7u0ytUn6pMUf"
      },
      "execution_count": null,
      "outputs": []
    },
    {
      "cell_type": "code",
      "source": [
        "# r2_score = Coeff. of Determination\n",
        "r2_score(Y_test, yhat)"
      ],
      "metadata": {
        "colab": {
          "base_uri": "https://localhost:8080/"
        },
        "id": "0hKFWzV1pU7p",
        "outputId": "2949c679-8f73-4932-b0b9-5651d6f57a1e"
      },
      "execution_count": null,
      "outputs": [
        {
          "output_type": "execute_result",
          "data": {
            "text/plain": [
              "0.7045460664781261"
            ]
          },
          "metadata": {},
          "execution_count": 84
        }
      ]
    },
    {
      "cell_type": "code",
      "source": [
        "# MSE\n",
        "mean_squared_error(Y_test, yhat)"
      ],
      "metadata": {
        "colab": {
          "base_uri": "https://localhost:8080/"
        },
        "id": "JmjTTm-sphDH",
        "outputId": "28b48916-853d-4a71-d625-f2c42da6cc8a"
      },
      "execution_count": null,
      "outputs": [
        {
          "output_type": "execute_result",
          "data": {
            "text/plain": [
              "19417876297.92542"
            ]
          },
          "metadata": {},
          "execution_count": 85
        }
      ]
    },
    {
      "cell_type": "code",
      "source": [
        "# RMSE\n",
        "np.sqrt(mean_squared_error(Y_test, yhat))"
      ],
      "metadata": {
        "colab": {
          "base_uri": "https://localhost:8080/"
        },
        "id": "r5PWCaE-qtIW",
        "outputId": "81d635df-0ecd-4215-cc2d-861b0539c388"
      },
      "execution_count": null,
      "outputs": [
        {
          "output_type": "execute_result",
          "data": {
            "text/plain": [
              "139348.0401653551"
            ]
          },
          "metadata": {},
          "execution_count": 86
        }
      ]
    },
    {
      "cell_type": "code",
      "source": [
        "# MAE\n",
        "mean_absolute_error(Y_test,yhat)"
      ],
      "metadata": {
        "colab": {
          "base_uri": "https://localhost:8080/"
        },
        "id": "aaQNHQ6Xq1eY",
        "outputId": "9d3cdd4d-bb07-4173-8476-c2769a3cab65"
      },
      "execution_count": null,
      "outputs": [
        {
          "output_type": "execute_result",
          "data": {
            "text/plain": [
              "98822.57329285613"
            ]
          },
          "metadata": {},
          "execution_count": 87
        }
      ]
    },
    {
      "cell_type": "code",
      "source": [
        "Y_test.mean()"
      ],
      "metadata": {
        "colab": {
          "base_uri": "https://localhost:8080/"
        },
        "id": "ypGdAkMzrCi5",
        "outputId": "57a7c7f2-2baf-4c48-df0b-e293f4c85653"
      },
      "execution_count": null,
      "outputs": [
        {
          "output_type": "execute_result",
          "data": {
            "text/plain": [
              "496102.3626040878"
            ]
          },
          "metadata": {},
          "execution_count": 90
        }
      ]
    },
    {
      "cell_type": "markdown",
      "source": [
        "#### Coeff. & Intercepts"
      ],
      "metadata": {
        "id": "-0kakD4bsRbd"
      }
    },
    {
      "cell_type": "code",
      "source": [
        "lr_model.coef_"
      ],
      "metadata": {
        "colab": {
          "base_uri": "https://localhost:8080/"
        },
        "id": "fb7jcTa0r236",
        "outputId": "d40d45ce-03da-4e9f-a8e7-5052ddf6e554"
      },
      "execution_count": null,
      "outputs": [
        {
          "output_type": "execute_result",
          "data": {
            "text/plain": [
              "array([-111904.00425284,  186394.09720531,  588954.39473389,\n",
              "        -60367.05041776,   55638.0396333 ,  125970.84873794,\n",
              "        837462.39421324,  -22151.18892664, -303597.49139672,\n",
              "        324488.78719234,  159023.82490696])"
            ]
          },
          "metadata": {},
          "execution_count": 93
        }
      ]
    },
    {
      "cell_type": "code",
      "source": [
        "# beta0\n",
        "lr_model.intercept_"
      ],
      "metadata": {
        "colab": {
          "base_uri": "https://localhost:8080/"
        },
        "id": "XSQn9YKSshG_",
        "outputId": "e6201d8f-6588-43bb-812c-12f02356f7b6"
      },
      "execution_count": null,
      "outputs": [
        {
          "output_type": "execute_result",
          "data": {
            "text/plain": [
              "-213975.5653910435"
            ]
          },
          "metadata": {},
          "execution_count": 94
        }
      ]
    },
    {
      "cell_type": "markdown",
      "source": [
        "##### Making New Predictions"
      ],
      "metadata": {
        "id": "vxtDYhp7tTma"
      }
    },
    {
      "cell_type": "code",
      "source": [
        "X"
      ],
      "metadata": {
        "colab": {
          "base_uri": "https://localhost:8080/",
          "height": 487
        },
        "id": "J3eylbJKsuAG",
        "outputId": "42a8e3fb-40e7-4508-f8e1-89d302c91856"
      },
      "execution_count": null,
      "outputs": [
        {
          "output_type": "execute_result",
          "data": {
            "text/plain": [
              "       bedrooms  bathrooms  sqft_living  sqft_lot  floors  view  grade  \\\n",
              "0             3       1.00         1180      5650     1.0     0      7   \n",
              "2             2       1.00          770     10000     1.0     0      6   \n",
              "3             4       3.00         1960      5000     1.0     0      7   \n",
              "4             3       2.00         1680      8080     1.0     0      8   \n",
              "6             3       2.25         1715      6819     2.0     0      7   \n",
              "...         ...        ...          ...       ...     ...   ...    ...   \n",
              "21608         3       2.50         1530      1131     3.0     0      8   \n",
              "21609         4       2.50         2310      5813     2.0     0      8   \n",
              "21610         2       0.75         1020      1350     2.0     0      7   \n",
              "21611         3       2.50         1600      2388     2.0     0      8   \n",
              "21612         2       0.75         1020      1076     2.0     0      7   \n",
              "\n",
              "       sqft_basement  yr_built      lat  sqft_living15  \n",
              "0                  0      1955  47.5112           1340  \n",
              "2                  0      1933  47.7379           2720  \n",
              "3                910      1965  47.5208           1360  \n",
              "4                  0      1987  47.6168           1800  \n",
              "6                  0      1995  47.3097           2238  \n",
              "...              ...       ...      ...            ...  \n",
              "21608              0      2009  47.6993           1530  \n",
              "21609              0      2014  47.5107           1830  \n",
              "21610              0      2009  47.5944           1020  \n",
              "21611              0      2004  47.5345           1410  \n",
              "21612              0      2008  47.5941           1020  \n",
              "\n",
              "[19811 rows x 11 columns]"
            ],
            "text/html": [
              "\n",
              "  <div id=\"df-2fc0b506-c35d-4d0c-b446-a84e60fa037b\">\n",
              "    <div class=\"colab-df-container\">\n",
              "      <div>\n",
              "<style scoped>\n",
              "    .dataframe tbody tr th:only-of-type {\n",
              "        vertical-align: middle;\n",
              "    }\n",
              "\n",
              "    .dataframe tbody tr th {\n",
              "        vertical-align: top;\n",
              "    }\n",
              "\n",
              "    .dataframe thead th {\n",
              "        text-align: right;\n",
              "    }\n",
              "</style>\n",
              "<table border=\"1\" class=\"dataframe\">\n",
              "  <thead>\n",
              "    <tr style=\"text-align: right;\">\n",
              "      <th></th>\n",
              "      <th>bedrooms</th>\n",
              "      <th>bathrooms</th>\n",
              "      <th>sqft_living</th>\n",
              "      <th>sqft_lot</th>\n",
              "      <th>floors</th>\n",
              "      <th>view</th>\n",
              "      <th>grade</th>\n",
              "      <th>sqft_basement</th>\n",
              "      <th>yr_built</th>\n",
              "      <th>lat</th>\n",
              "      <th>sqft_living15</th>\n",
              "    </tr>\n",
              "  </thead>\n",
              "  <tbody>\n",
              "    <tr>\n",
              "      <th>0</th>\n",
              "      <td>3</td>\n",
              "      <td>1.00</td>\n",
              "      <td>1180</td>\n",
              "      <td>5650</td>\n",
              "      <td>1.0</td>\n",
              "      <td>0</td>\n",
              "      <td>7</td>\n",
              "      <td>0</td>\n",
              "      <td>1955</td>\n",
              "      <td>47.5112</td>\n",
              "      <td>1340</td>\n",
              "    </tr>\n",
              "    <tr>\n",
              "      <th>2</th>\n",
              "      <td>2</td>\n",
              "      <td>1.00</td>\n",
              "      <td>770</td>\n",
              "      <td>10000</td>\n",
              "      <td>1.0</td>\n",
              "      <td>0</td>\n",
              "      <td>6</td>\n",
              "      <td>0</td>\n",
              "      <td>1933</td>\n",
              "      <td>47.7379</td>\n",
              "      <td>2720</td>\n",
              "    </tr>\n",
              "    <tr>\n",
              "      <th>3</th>\n",
              "      <td>4</td>\n",
              "      <td>3.00</td>\n",
              "      <td>1960</td>\n",
              "      <td>5000</td>\n",
              "      <td>1.0</td>\n",
              "      <td>0</td>\n",
              "      <td>7</td>\n",
              "      <td>910</td>\n",
              "      <td>1965</td>\n",
              "      <td>47.5208</td>\n",
              "      <td>1360</td>\n",
              "    </tr>\n",
              "    <tr>\n",
              "      <th>4</th>\n",
              "      <td>3</td>\n",
              "      <td>2.00</td>\n",
              "      <td>1680</td>\n",
              "      <td>8080</td>\n",
              "      <td>1.0</td>\n",
              "      <td>0</td>\n",
              "      <td>8</td>\n",
              "      <td>0</td>\n",
              "      <td>1987</td>\n",
              "      <td>47.6168</td>\n",
              "      <td>1800</td>\n",
              "    </tr>\n",
              "    <tr>\n",
              "      <th>6</th>\n",
              "      <td>3</td>\n",
              "      <td>2.25</td>\n",
              "      <td>1715</td>\n",
              "      <td>6819</td>\n",
              "      <td>2.0</td>\n",
              "      <td>0</td>\n",
              "      <td>7</td>\n",
              "      <td>0</td>\n",
              "      <td>1995</td>\n",
              "      <td>47.3097</td>\n",
              "      <td>2238</td>\n",
              "    </tr>\n",
              "    <tr>\n",
              "      <th>...</th>\n",
              "      <td>...</td>\n",
              "      <td>...</td>\n",
              "      <td>...</td>\n",
              "      <td>...</td>\n",
              "      <td>...</td>\n",
              "      <td>...</td>\n",
              "      <td>...</td>\n",
              "      <td>...</td>\n",
              "      <td>...</td>\n",
              "      <td>...</td>\n",
              "      <td>...</td>\n",
              "    </tr>\n",
              "    <tr>\n",
              "      <th>21608</th>\n",
              "      <td>3</td>\n",
              "      <td>2.50</td>\n",
              "      <td>1530</td>\n",
              "      <td>1131</td>\n",
              "      <td>3.0</td>\n",
              "      <td>0</td>\n",
              "      <td>8</td>\n",
              "      <td>0</td>\n",
              "      <td>2009</td>\n",
              "      <td>47.6993</td>\n",
              "      <td>1530</td>\n",
              "    </tr>\n",
              "    <tr>\n",
              "      <th>21609</th>\n",
              "      <td>4</td>\n",
              "      <td>2.50</td>\n",
              "      <td>2310</td>\n",
              "      <td>5813</td>\n",
              "      <td>2.0</td>\n",
              "      <td>0</td>\n",
              "      <td>8</td>\n",
              "      <td>0</td>\n",
              "      <td>2014</td>\n",
              "      <td>47.5107</td>\n",
              "      <td>1830</td>\n",
              "    </tr>\n",
              "    <tr>\n",
              "      <th>21610</th>\n",
              "      <td>2</td>\n",
              "      <td>0.75</td>\n",
              "      <td>1020</td>\n",
              "      <td>1350</td>\n",
              "      <td>2.0</td>\n",
              "      <td>0</td>\n",
              "      <td>7</td>\n",
              "      <td>0</td>\n",
              "      <td>2009</td>\n",
              "      <td>47.5944</td>\n",
              "      <td>1020</td>\n",
              "    </tr>\n",
              "    <tr>\n",
              "      <th>21611</th>\n",
              "      <td>3</td>\n",
              "      <td>2.50</td>\n",
              "      <td>1600</td>\n",
              "      <td>2388</td>\n",
              "      <td>2.0</td>\n",
              "      <td>0</td>\n",
              "      <td>8</td>\n",
              "      <td>0</td>\n",
              "      <td>2004</td>\n",
              "      <td>47.5345</td>\n",
              "      <td>1410</td>\n",
              "    </tr>\n",
              "    <tr>\n",
              "      <th>21612</th>\n",
              "      <td>2</td>\n",
              "      <td>0.75</td>\n",
              "      <td>1020</td>\n",
              "      <td>1076</td>\n",
              "      <td>2.0</td>\n",
              "      <td>0</td>\n",
              "      <td>7</td>\n",
              "      <td>0</td>\n",
              "      <td>2008</td>\n",
              "      <td>47.5941</td>\n",
              "      <td>1020</td>\n",
              "    </tr>\n",
              "  </tbody>\n",
              "</table>\n",
              "<p>19811 rows × 11 columns</p>\n",
              "</div>\n",
              "      <button class=\"colab-df-convert\" onclick=\"convertToInteractive('df-2fc0b506-c35d-4d0c-b446-a84e60fa037b')\"\n",
              "              title=\"Convert this dataframe to an interactive table.\"\n",
              "              style=\"display:none;\">\n",
              "        \n",
              "  <svg xmlns=\"http://www.w3.org/2000/svg\" height=\"24px\"viewBox=\"0 0 24 24\"\n",
              "       width=\"24px\">\n",
              "    <path d=\"M0 0h24v24H0V0z\" fill=\"none\"/>\n",
              "    <path d=\"M18.56 5.44l.94 2.06.94-2.06 2.06-.94-2.06-.94-.94-2.06-.94 2.06-2.06.94zm-11 1L8.5 8.5l.94-2.06 2.06-.94-2.06-.94L8.5 2.5l-.94 2.06-2.06.94zm10 10l.94 2.06.94-2.06 2.06-.94-2.06-.94-.94-2.06-.94 2.06-2.06.94z\"/><path d=\"M17.41 7.96l-1.37-1.37c-.4-.4-.92-.59-1.43-.59-.52 0-1.04.2-1.43.59L10.3 9.45l-7.72 7.72c-.78.78-.78 2.05 0 2.83L4 21.41c.39.39.9.59 1.41.59.51 0 1.02-.2 1.41-.59l7.78-7.78 2.81-2.81c.8-.78.8-2.07 0-2.86zM5.41 20L4 18.59l7.72-7.72 1.47 1.35L5.41 20z\"/>\n",
              "  </svg>\n",
              "      </button>\n",
              "      \n",
              "  <style>\n",
              "    .colab-df-container {\n",
              "      display:flex;\n",
              "      flex-wrap:wrap;\n",
              "      gap: 12px;\n",
              "    }\n",
              "\n",
              "    .colab-df-convert {\n",
              "      background-color: #E8F0FE;\n",
              "      border: none;\n",
              "      border-radius: 50%;\n",
              "      cursor: pointer;\n",
              "      display: none;\n",
              "      fill: #1967D2;\n",
              "      height: 32px;\n",
              "      padding: 0 0 0 0;\n",
              "      width: 32px;\n",
              "    }\n",
              "\n",
              "    .colab-df-convert:hover {\n",
              "      background-color: #E2EBFA;\n",
              "      box-shadow: 0px 1px 2px rgba(60, 64, 67, 0.3), 0px 1px 3px 1px rgba(60, 64, 67, 0.15);\n",
              "      fill: #174EA6;\n",
              "    }\n",
              "\n",
              "    [theme=dark] .colab-df-convert {\n",
              "      background-color: #3B4455;\n",
              "      fill: #D2E3FC;\n",
              "    }\n",
              "\n",
              "    [theme=dark] .colab-df-convert:hover {\n",
              "      background-color: #434B5C;\n",
              "      box-shadow: 0px 1px 3px 1px rgba(0, 0, 0, 0.15);\n",
              "      filter: drop-shadow(0px 1px 2px rgba(0, 0, 0, 0.3));\n",
              "      fill: #FFFFFF;\n",
              "    }\n",
              "  </style>\n",
              "\n",
              "      <script>\n",
              "        const buttonEl =\n",
              "          document.querySelector('#df-2fc0b506-c35d-4d0c-b446-a84e60fa037b button.colab-df-convert');\n",
              "        buttonEl.style.display =\n",
              "          google.colab.kernel.accessAllowed ? 'block' : 'none';\n",
              "\n",
              "        async function convertToInteractive(key) {\n",
              "          const element = document.querySelector('#df-2fc0b506-c35d-4d0c-b446-a84e60fa037b');\n",
              "          const dataTable =\n",
              "            await google.colab.kernel.invokeFunction('convertToInteractive',\n",
              "                                                     [key], {});\n",
              "          if (!dataTable) return;\n",
              "\n",
              "          const docLinkHtml = 'Like what you see? Visit the ' +\n",
              "            '<a target=\"_blank\" href=https://colab.research.google.com/notebooks/data_table.ipynb>data table notebook</a>'\n",
              "            + ' to learn more about interactive tables.';\n",
              "          element.innerHTML = '';\n",
              "          dataTable['output_type'] = 'display_data';\n",
              "          await google.colab.output.renderOutput(dataTable, element);\n",
              "          const docLink = document.createElement('div');\n",
              "          docLink.innerHTML = docLinkHtml;\n",
              "          element.appendChild(docLink);\n",
              "        }\n",
              "      </script>\n",
              "    </div>\n",
              "  </div>\n",
              "  "
            ]
          },
          "metadata": {},
          "execution_count": 95
        }
      ]
    },
    {
      "cell_type": "code",
      "source": [
        "X_new = [[4,\t2.00,\t2180,\t8650,\t1.0,\t0,\t7,\t0,\t2009,\t47.5212,\t2340]]"
      ],
      "metadata": {
        "id": "2LtftR2jtWrU"
      },
      "execution_count": null,
      "outputs": []
    },
    {
      "cell_type": "code",
      "source": [
        "Xscaled_new = scaler.transform(X_new)\n",
        "Xscaled_new"
      ],
      "metadata": {
        "colab": {
          "base_uri": "https://localhost:8080/"
        },
        "id": "NUxSr2qkt1P5",
        "outputId": "cad13a26-7b2f-4918-d97f-d61357fe162a"
      },
      "execution_count": null,
      "outputs": [
        {
          "output_type": "stream",
          "name": "stderr",
          "text": [
            "/usr/local/lib/python3.8/dist-packages/sklearn/base.py:450: UserWarning: X does not have valid feature names, but MinMaxScaler was fitted with feature names\n",
            "  warnings.warn(\n"
          ]
        },
        {
          "output_type": "execute_result",
          "data": {
            "text/plain": [
              "array([[0.57142857, 0.4       , 0.33831776, 0.04589668, 0.        ,\n",
              "        0.        , 0.44444444, 0.        , 0.94782609, 0.57351963,\n",
              "        0.44339623]])"
            ]
          },
          "metadata": {},
          "execution_count": 99
        }
      ]
    },
    {
      "cell_type": "code",
      "source": [
        "np.round(lr_model.predict(Xscaled_new))"
      ],
      "metadata": {
        "colab": {
          "base_uri": "https://localhost:8080/"
        },
        "id": "_-XzFXKWuCL3",
        "outputId": "99b1c8b3-0279-44e2-9126-4ff32ff000f6"
      },
      "execution_count": null,
      "outputs": [
        {
          "output_type": "execute_result",
          "data": {
            "text/plain": [
              "array([334179.])"
            ]
          },
          "metadata": {},
          "execution_count": 101
        }
      ]
    },
    {
      "cell_type": "code",
      "source": [],
      "metadata": {
        "id": "fY5h49QOuSmf"
      },
      "execution_count": null,
      "outputs": []
    }
  ]
}